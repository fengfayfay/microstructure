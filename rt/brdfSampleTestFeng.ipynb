{
 "cells": [
  {
   "cell_type": "markdown",
   "metadata": {},
   "source": [
    "The first cell contain a simple test to compare ZipinBrdf vs BeckmanBrdf.\n",
    "\n",
    "theta_o is set to 60 degrees, phi_o is 0, u is set at (.5, .5), so phi_i= u2 * 2PI = PI.\n",
    "\n",
    "I created a ZipinBrdf and used its Sample(Wo) method to generate a tuple output:  (brdf_value, pdf, Wi).    Then I invoke ZipinBrdf.eval(Wo, wi).  I compare the return of ZipinBrdf.Eval(Wo, ZipinBrdf.Sample(Wo)) with the (value, pdf) output of Zipin.Sample(Wo).  For the Brdf to be correct, I expect the ZipinBrdf.Eval(Wo, Wi returned by ZipinBrdf.Sample(Wo)) == (value, pdf) returned by ZipinBrdf.Sample(Wo).\n",
    "You can see this test is confirmed by Beckman brdf.\n",
    "\n",
    "For now, ZipinBrdf Eval is not working.  But I believe ZipinBrdf Sample is mostly correct.\n",
    "\n",
    "\n",
    "Also the brdf value returned by ZipinBrdf is consistently lower than the brdf values computed by Beckman brdf, with values that seem to be within the range of  \"zipin ratio\" * the beckman brdf values.\n"
   ]
  },
  {
   "cell_type": "code",
   "execution_count": 1,
   "metadata": {},
   "outputs": [
    {
     "name": "stdout",
     "output_type": "stream",
     "text": [
      "Vec3(-0.05458304151317585, 0.0, 0.9985092345988449)\n"
     ]
    }
   ],
   "source": [
    "import vec3;\n",
    "wo = vec3.Vec3(0.8660254037844386, 0.0, 0.5000000000000001);\n",
    "wi = vec3.Vec3(-0.915366761231543, -0.0, 0.4026210283038819)\n",
    "mid = (wo+wi).norm()\n",
    "print(mid)\n",
    "wh = vec3.Vec3(-0.14462938797220776, 0, 0.9894858968852384);"
   ]
  },
  {
   "cell_type": "code",
   "execution_count": 1,
   "metadata": {},
   "outputs": [
    {
     "name": "stdout",
     "output_type": "stream",
     "text": [
      "zipinVersion:  Feng\n",
      "Vec3(0.8660254037844386, 0.0, 0.5000000000000001) (0.3, 0)\n",
      "Vec3(-0.9985092345988448, -0.0, 0.054583041513176014)\n",
      "(0.2897692183927582, 0.49429104435029714) (0.2897692183927582, 0.49429104435029714, <vec3.Vec3 object at 0x10f2d9e10>, -1.516186145594209)\n",
      "Vec3(-0.5465249178656526, 0.0, 0.8374428423193679)\n",
      "(0.7780437768848174, 0.550333411657449) (0.7780437768848174, 0.550333411657449, <vec3.Vec3 object at 0x10f2d93c8>, -0.5782089567989855)\n"
     ]
    }
   ],
   "source": [
    "import sys;\n",
    "sys.path.append('/usr/local/lib/python3.6/site-packages')\n",
    "import brdf;\n",
    "import vec3;\n",
    "import math;\n",
    "import random;\n",
    "import matplotlib.pyplot as plt;\n",
    "import microfacet;\n",
    "alpha = .4\n",
    "zipinVersion = 'Feng'\n",
    "zipin= brdf.ZipinBrdf(alpha, alpha, zipinVersion);\n",
    "theta_o = math.pi /3;\n",
    "\n",
    "phi_o = 0;\n",
    "wo = vec3.Vec3(math.sin(theta_o) * math.cos(phi_o), math.sin(theta_o) * math.sin(phi_o), math.cos(theta_o));\n",
    "u = (.3, 0)\n",
    "print(wo, u)\n",
    "\n",
    "phi_i = 0\n",
    "\n",
    "maxBounce = 3\n",
    "zsample =zipin.Sample(wo, u, phi_o, maxBounce);\n",
    "if zsample[0]>0:\n",
    "    zeval = zipin.Eval(wo, zsample[2], phi_o, phi_i,  maxBounce);\n",
    "    print(zsample[2])\n",
    "    print(zeval, zsample);\n",
    "\n",
    "beckman = brdf.Brdf(alpha, alpha);\n",
    "bsample = beckman.Sample(wo, u, GMode = 0);\n",
    "if bsample[0]>0:\n",
    "    beval = beckman.Eval(wo, bsample[2], GMode = 0);\n",
    "    print(bsample[2]);\n",
    "    print(beval, bsample);"
   ]
  },
  {
   "cell_type": "code",
   "execution_count": 10,
   "metadata": {
    "scrolled": false
   },
   "outputs": [
    {
     "name": "stdout",
     "output_type": "stream",
     "text": [
      "zipinVersion:  Feng\n",
      "1.2566370614359172 1.2566380614359172\n"
     ]
    },
    {
     "data": {
      "image/png": "[encoded data removed]",
      "text/plain": [
       "<matplotlib.figure.Figure at 0x1104ceeb8>"
      ]
     },
     "metadata": {},
     "output_type": "display_data"
    }
   ],
   "source": [
    "import sys;\n",
    "sys.path.append('/usr/local/lib/python3.6/site-packages')\n",
    "import brdf;\n",
    "import vec3;\n",
    "import math;\n",
    "import random;\n",
    "import matplotlib.pyplot as plt;\n",
    "import microfacet;\n",
    "\n",
    "#pat, change this value to see the shape of the plots change\n",
    "alpha = .99\n",
    "\n",
    "#change this to 'Pat\" to use Pat's zipin inplementation\n",
    "zipinVersion = 'Feng'\n",
    "\n",
    "beckman = brdf.Brdf(alpha, alpha);\n",
    "zipin= brdf.ZipinBrdf(alpha, alpha,  zipinVersion);\n",
    "\n",
    "theta_o = math.radians(72);\n",
    "phi_o = 0\n",
    "wo = vec3.Vec3(math.sin(theta_o) * math.cos(phi_o), math.sin(theta_o) * math.sin(phi_o), math.cos(theta_o))\n",
    "xdata= [];              \n",
    "zdata=[]; \n",
    "bdata = [];\n",
    "blin_data = []\n",
    "zsamples = []\n",
    "bsamples = []\n",
    "sampleCount = 1000\n",
    "\n",
    "maxBounce = 3\n",
    "phi_i = 0\n",
    "for i in range(sampleCount):\n",
    "    u = ((float)(i))/(sampleCount)\n",
    "    usample = (u, 0)\n",
    "    bsample = beckman.Sample(wo, usample, GMode = 1)\n",
    "    blin_sample = beckman.Sample(wo, usample, GMode = 2) \n",
    "    zsample = zipin.Sample(wo, usample, phi_o, maxBounce)\n",
    "    if (zsample[0] == 0):\n",
    "        continue\n",
    "    \n",
    "\n",
    "    #xdata.append(bsample[2].z)\n",
    "    xdata.append(math.degrees(zsample[3]))\n",
    "    bdata.append(bsample[0])\n",
    "    blin_data.append(blin_sample[0])\n",
    "    zdata.append(zsample[0])\n",
    "  \n",
    "plt.plot(xdata, blin_data, 'bs');\n",
    "plt.plot(xdata, bdata, 'g^');\n",
    "plt.plot(xdata, zdata, 'rs');    \n",
    "#plt.plot(xdata, blin_data, color = 'blue');\n",
    "#plt.plot(xdata, bdata, color = 'green');\n",
    "#plt.plot(xdata, zdata, color = 'red');\n",
    "plt.autoscale(True, 'both', True)\n",
    "plt.show()  \n",
    "\n"
   ]
  },
  {
   "cell_type": "code",
   "execution_count": null,
   "metadata": {},
   "outputs": [],
   "source": []
  },
  {
   "cell_type": "code",
   "execution_count": null,
   "metadata": {},
   "outputs": [],
   "source": []
  },
  {
   "cell_type": "code",
   "execution_count": null,
   "metadata": {},
   "outputs": [],
   "source": []
  },
  {
   "cell_type": "code",
   "execution_count": null,
   "metadata": {},
   "outputs": [],
   "source": []
  }
 ],
 "metadata": {
  "kernelspec": {
   "display_name": "Python 3",
   "language": "python",
   "name": "python3"
  },
  "language_info": {
   "codemirror_mode": {
    "name": "ipython",
    "version": 3
   },
   "file_extension": ".py",
   "mimetype": "text/x-python",
   "name": "python",
   "nbconvert_exporter": "python",
   "pygments_lexer": "ipython3",
   "version": "3.6.2+"
  }
 },
 "nbformat": 4,
 "nbformat_minor": 2
}
