{
 "cells": [
  {
   "cell_type": "markdown",
   "metadata": {},
   "source": [
    "The first cell contain a simple test to compare ZipinBrdf vs BeckmanBrdf.\n",
    "\n",
    "theta_o is set to 60 degrees, phi_o is 0, u is set at (.5, .5), so phi_i= u2 * 2PI = PI.\n",
    "\n",
    "I created a ZipinBrdf and used its Sample(Wo) method to generate a tuple output:  (brdf_value, pdf, Wi).    Then I invoke ZipinBrdf.eval(Wo, wi).  I compare the return of ZipinBrdf.Eval(Wo, ZipinBrdf.Sample(Wo)) with the (value, pdf) output of Zipin.Sample(Wo).  For the Brdf to be correct, I expect the ZipinBrdf.Eval(Wo, Wi returned by ZipinBrdf.Sample(Wo)) == (value, pdf) returned by ZipinBrdf.Sample(Wo).\n",
    "You can see this test is confirmed by Beckman brdf.\n",
    "\n",
    "For now, ZipinBrdf Eval is not working.  But I believe ZipinBrdf Sample is mostly correct.\n",
    "\n",
    "\n",
    "Also the brdf value returned by ZipinBrdf is consistently lower than the brdf values computed by Beckman brdf, with values that seem to be within the range of  \"zipin ratio\" * the beckman brdf values.\n"
   ]
  },
  {
   "cell_type": "code",
   "execution_count": 1,
   "metadata": {},
   "outputs": [
    {
     "name": "stdout",
     "output_type": "stream",
     "text": [
      "Vec3(-0.05458304151317585, 0.0, 0.9985092345988449)\n"
     ]
    }
   ],
   "source": [
    "import vec3;\n",
    "wo = vec3.Vec3(0.8660254037844386, 0.0, 0.5000000000000001);\n",
    "wi = vec3.Vec3(-0.915366761231543, -0.0, 0.4026210283038819)\n",
    "mid = (wo+wi).norm()\n",
    "print(mid)\n",
    "wh = vec3.Vec3(-0.14462938797220776, 0, 0.9894858968852384);"
   ]
  },
  {
   "cell_type": "code",
   "execution_count": 1,
   "metadata": {},
   "outputs": [
    {
     "name": "stdout",
     "output_type": "stream",
     "text": [
      "zipinVersion:  Feng\n",
      "Vec3(0.9460853588275453, 0.0, 0.32391741819814956) (0.1, 0.1)\n",
      "Vec3(-0.8586334723959796, 0.06353751464682747, 0.5086369474524307)\n",
      "(1.428889710356292, 1.09342809867658) 1.428889710356292 1.09342809867658\n",
      "59.426919921815795\n",
      "175.76791660602612\n",
      "Vec3(-0.8586334723959796, 0.06353751464682747, 0.5086369474524307)\n",
      "(1.4288897103562908, 1.0934280986765792) (1.4288897103562908, 1.0934280986765792, <vec3.Vec3 object at 0x10dfd06d8>, 1.0371954169546969)\n"
     ]
    }
   ],
   "source": [
    "import sys;\n",
    "sys.path.append('/usr/local/lib/python3.6/site-packages')\n",
    "import brdf;\n",
    "import vec3;\n",
    "import math;\n",
    "import random;\n",
    "import matplotlib.pyplot as plt;\n",
    "import microfacet;\n",
    "alpha = .4\n",
    "zipinVersion = 'Feng'\n",
    "zipin= brdf.ZipinBrdf(alpha, alpha, zipinVersion);\n",
    "theta_o = math.radians(71.1);\n",
    "\n",
    "phi_o = 0;\n",
    "wo = vec3.Vec3(math.sin(theta_o) * math.cos(phi_o), math.sin(theta_o) * math.sin(phi_o), math.cos(theta_o));\n",
    "u = (.1, .1)\n",
    "print(wo, u)\n",
    "\n",
    "\n",
    "\n",
    "maxBounce = 1\n",
    "zsample =zipin.Sample(wo, u, maxBounce);\n",
    "if zsample[0]>0:\n",
    "    zeval = zipin.Eval(wo, zsample[2], maxBounce);\n",
    "    print(zsample[2])\n",
    "    print(zeval, zsample[0], zsample[1]);\n",
    "    print(math.degrees(zsample[3]))\n",
    "    print(math.degrees(math.atan2(zsample[2].y, zsample[2].x)))\n",
    "\n",
    "beckman = brdf.Brdf(alpha, alpha);\n",
    "bsample = beckman.Sample(wo, u, GMode = 0);\n",
    "if bsample[0]>0:\n",
    "    beval = beckman.Eval(wo, bsample[2], GMode = 0);\n",
    "    print(bsample[2]);\n",
    "    print(beval, bsample);"
   ]
  },
  {
   "cell_type": "code",
   "execution_count": 7,
   "metadata": {
    "scrolled": false
   },
   "outputs": [
    {
     "name": "stdout",
     "output_type": "stream",
     "text": [
      "zipinVersion:  Feng\n",
      "1.2409290981679681 1.2409390981679682\n"
     ]
    },
    {
     "data": {
      "image/png": "[encoded data removed]",
      "text/plain": [
       "<matplotlib.figure.Figure at 0x10e2ab2e8>"
      ]
     },
     "metadata": {},
     "output_type": "display_data"
    }
   ],
   "source": [
    "import sys;\n",
    "sys.path.append('/usr/local/lib/python3.6/site-packages')\n",
    "import brdf;\n",
    "import vec3;\n",
    "import math;\n",
    "import random;\n",
    "import matplotlib.pyplot as plt;\n",
    "import microfacet;\n",
    "\n",
    "#pat, change this value to see the shape of the plots change\n",
    "alpha = .9\n",
    "\n",
    "#change this to 'Pat\" to use Pat's zipin inplementation\n",
    "zipinVersion = 'Feng'\n",
    "\n",
    "beckman = brdf.Brdf(alpha, alpha);\n",
    "zipin= brdf.ZipinBrdf(alpha, alpha,  zipinVersion);\n",
    "\n",
    "theta_o = math.radians(71.1);\n",
    "phi_o = 0\n",
    "wo = vec3.Vec3(math.sin(theta_o) * math.cos(phi_o), math.sin(theta_o) * math.sin(phi_o), math.cos(theta_o))\n",
    "maxBounce = 3\n",
    "\n",
    "xdata= [];              \n",
    "zdata=[]; \n",
    "bdata = [];\n",
    "blin_data = []\n",
    "zsamples = []\n",
    "bsamples = []\n",
    "sampleCount = 1000\n",
    "\n",
    "for i in range(sampleCount):\n",
    "    u = ((float)(i))/(sampleCount)\n",
    "    usample = (u, .1)\n",
    "    bsample = beckman.Sample(wo, usample, GMode = 1)\n",
    "    blin_sample = beckman.Sample(wo, usample, GMode = 2) \n",
    "    zsample = zipin.Sample(wo, usample, maxBounce)\n",
    "    if (zsample[0] == 0):\n",
    "        continue\n",
    "    \n",
    "\n",
    "    #xdata.append(bsample[2].z)\n",
    "    xdata.append(math.degrees(zsample[3]))\n",
    "    bdata.append(bsample[0])\n",
    "    blin_data.append(blin_sample[0])\n",
    "    zdata.append(zsample[0])\n",
    "  \n",
    "plt.plot(xdata, blin_data, 'bs');\n",
    "plt.plot(xdata, bdata, 'g^');\n",
    "plt.plot(xdata, zdata, 'rs');    \n",
    "#plt.plot(xdata, blin_data, color = 'blue');\n",
    "#plt.plot(xdata, bdata, color = 'green');\n",
    "#plt.plot(xdata, zdata, color = 'red');\n",
    "plt.autoscale(True, 'both', True)\n",
    "plt.show()  \n",
    "\n"
   ]
  },
  {
   "cell_type": "code",
   "execution_count": 5,
   "metadata": {},
   "outputs": [
    {
     "name": "stdout",
     "output_type": "stream",
     "text": [
      "zipinVersion:  Feng\n",
      "0.45553093477052 0.45554093477052\n",
      "Vec3(0.43993916985591514, 0.0, 0.8980275757606156) (2.2153404207212044, 2.215345847154865, <vec3.Vec3 object at 0x10ca15e80>, 0.45553093477052)\n"
     ]
    }
   ],
   "source": [
    "\n",
    "import brdf;\n",
    "import vec3;\n",
    "import math;\n",
    "import random;\n",
    "\n",
    "import microfacet;\n",
    "\n",
    "#pat, change this value to see the shape of the plots change\n",
    "alpha = .2\n",
    "\n",
    "#change this to 'Pat\" to use Pat's zipin inplementation\n",
    "zipinVersion = 'Feng'\n",
    "\n",
    "beckman = brdf.Brdf(alpha, alpha);\n",
    "zipin= brdf.ZipinBrdf(alpha, alpha,  zipinVersion);\n",
    "\n",
    "theta_o = math.radians(26.1);\n",
    "phi_o = 0\n",
    "wo = vec3.Vec3(math.sin(theta_o) * math.cos(phi_o), math.sin(theta_o) * math.sin(phi_o), math.cos(theta_o))\n",
    "maxBounce = 1\n",
    "usample = (0, 0)\n",
    "wi = zipin.Sample(wo, usample, maxBounce)\n",
    "print (wo, wi)"
   ]
  },
  {
   "cell_type": "code",
   "execution_count": null,
   "metadata": {},
   "outputs": [],
   "source": []
  },
  {
   "cell_type": "code",
   "execution_count": null,
   "metadata": {},
   "outputs": [],
   "source": []
  },
  {
   "cell_type": "code",
   "execution_count": null,
   "metadata": {},
   "outputs": [],
   "source": []
  }
 ],
 "metadata": {
  "kernelspec": {
   "display_name": "Python 3",
   "language": "python",
   "name": "python3"
  },
  "language_info": {
   "codemirror_mode": {
    "name": "ipython",
    "version": 3
   },
   "file_extension": ".py",
   "mimetype": "text/x-python",
   "name": "python",
   "nbconvert_exporter": "python",
   "pygments_lexer": "ipython3",
   "version": "3.6.2+"
  }
 },
 "nbformat": 4,
 "nbformat_minor": 2
}
