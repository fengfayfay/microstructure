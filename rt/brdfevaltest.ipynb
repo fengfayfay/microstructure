{
 "cells": [
  {
   "cell_type": "markdown",
   "metadata": {},
   "source": [
    "This test compares single bounce ZipinBrdf with Beckman Brdf using Blin G\n",
    "alpha is roughness, increase this value will increase the spread of the brdf.\n",
    "theta_o is the incident direction, phi is fixed at 0.\n"
   ]
  },
  {
   "cell_type": "code",
   "execution_count": 1,
   "metadata": {},
   "outputs": [],
   "source": [
    "import math;\n",
    "alpha = .9\n",
    "theta_o = math.pi/3;\n",
    "maxBounce = 4"
   ]
  },
  {
   "cell_type": "code",
   "execution_count": 27,
   "metadata": {
    "scrolled": true
   },
   "outputs": [
    {
     "name": "stdout",
     "output_type": "stream",
     "text": [
      "zipinVersion:  Feng\n"
     ]
    },
    {
     "data": {
      "image/png": "[encoded data removed]",
      "text/plain": [
       "<matplotlib.figure.Figure at 0x1123a06a0>"
      ]
     },
     "metadata": {},
     "output_type": "display_data"
    }
   ],
   "source": [
    "import sys;\n",
    "sys.path.append('/usr/local/lib/python3.6/site-packages')\n",
    "import math;\n",
    "import brdf;\n",
    "import vec3;\n",
    "import random;\n",
    "import matplotlib.pyplot as plt;\n",
    "\n",
    "maxBounce = 1\n",
    "alpha = .4\n",
    "theta_o = math.radians(71.1);\n",
    "\n",
    "zipinVersion = 'Feng'\n",
    "beckman = brdf.Brdf(alpha, alpha);\n",
    "zipin= brdf.ZipinBrdf(alpha, alpha,  zipinVersion)\n",
    "\n",
    "phi_i_degree = 180\n",
    "phi_o_degree = 0\n",
    "phi_i = math.radians(phi_i_degree)\n",
    "phi_o = math.radians(phi_o_degree)\n",
    "wo = vec3.Vec3(math.sin(theta_o)* math.cos(phi_o), math.sin(theta_o) * math.sin(phi_o), math.cos(theta_o))\n",
    "xdata= [];              \n",
    "zdata=[]; \n",
    "bdata = [];\n",
    "blindata = []\n",
    "\n",
    "sampleCount = 1000\n",
    "minAngle = -math.pi \n",
    "#minAngle = math.radians(-50)\n",
    "maxAngle = math.pi\n",
    "#maxAngle = math.radians(0)\n",
    "rangeAngle = maxAngle - minAngle\n",
    "minBounce = 1\n",
    "maxBounce = 1\n",
    "for i in range(1,sampleCount):\n",
    "    thetaWi = minAngle + rangeAngle * float(i)/float(sampleCount) \n",
    "    mu = math.cos(thetaWi)\n",
    "    wi = vec3.Vec3(math.sin(thetaWi)* math.cos(phi_i), math.sin(thetaWi) * math.sin(phi_i), mu)\n",
    "    beval = beckman.Eval(wo, wi,1)\n",
    "    blin_eval = beckman.Eval(wo, wi, 2)\n",
    "    zeval = zipin.Eval(wo, wi, maxBounce, minBounce)\n",
    "    xdata.append(math.degrees(thetaWi))\n",
    "    bdata.append(beval[0])\n",
    "    blindata.append(blin_eval[0])\n",
    "    zdata.append(zeval[0])\n",
    "\n",
    "plt.plot(xdata, blindata, 'b^', label=\"Beckman with Blin G\");\n",
    "plt.plot(xdata, bdata, 'g^', label=\"Beckman with Walter G\");\n",
    "plt.plot(xdata, zdata, 'r-', label='Zipin');\n",
    "#plt.legend(loc=1)\n",
    "plt.xlabel('theta_i')\n",
    "plt.ylabel('brdf')\n",
    "titleString = 'alpha = '+ repr(alpha) + ' , theta_o = '+ repr(math.degrees(theta_o))+' , phi_o = ' + repr(phi_o_degree) + ', phi_i = ' + repr(phi_i_degree) + ', bounce = ' + repr(maxBounce) \n",
    "plt.title(titleString)                                                                             \n",
    "plt.autoscale(True, 'both', False)\n",
    "plt.show()  \n",
    "\n",
    "    \n",
    "\n"
   ]
  },
  {
   "cell_type": "code",
   "execution_count": 13,
   "metadata": {},
   "outputs": [
    {
     "name": "stdout",
     "output_type": "stream",
     "text": [
      "67.22999999999999 0.37349999999999994\n"
     ]
    },
    {
     "data": {
      "image/png": "[encoded data removed]",
      "text/plain": [
       "<matplotlib.figure.Figure at 0x1127b5f28>"
      ]
     },
     "metadata": {},
     "output_type": "display_data"
    }
   ],
   "source": [
    "import math\n",
    "minWh = 0\n",
    "maxWh = math.pi * .5\n",
    "rangeWh = maxWh - minWh\n",
    "ddata = []\n",
    "xdata = []\n",
    "Found = False\n",
    "for i in range (1, sampleCount):\n",
    "    thetaWh = minWh + rangeWh * float(i)/float(sampleCount)\n",
    "    wh = vec3.Vec3(math.sin(thetaWh) * math.cos(phi_i), math.sin(thetaWh) * math.sin(phi_i), math.cos(thetaWh))\n",
    "    d = beckman.microfacet.D(wh)\n",
    "    if d < 1e-6 and not Found:\n",
    "        theta = 90.0 - math.degrees(thetaWh)\n",
    "        thetaP = theta/180.0\n",
    "        print(theta, thetaP)\n",
    "        Found = True\n",
    "    ddata.append(d)\n",
    "    xdata.append(math.degrees(thetaWh))\n",
    "plt.plot(xdata, ddata, 'b^', label=\"Beckman Distribution\");\n",
    "plt.title('beckman distribution half vector')\n",
    "plt.autoscale(True, 'both', True)\n",
    "plt.show() "
   ]
  },
  {
   "cell_type": "code",
   "execution_count": null,
   "metadata": {},
   "outputs": [],
   "source": []
  },
  {
   "cell_type": "code",
   "execution_count": null,
   "metadata": {},
   "outputs": [],
   "source": []
  }
 ],
 "metadata": {
  "kernelspec": {
   "display_name": "Python 3",
   "language": "python",
   "name": "python3"
  },
  "language_info": {
   "codemirror_mode": {
    "name": "ipython",
    "version": 3
   },
   "file_extension": ".py",
   "mimetype": "text/x-python",
   "name": "python",
   "nbconvert_exporter": "python",
   "pygments_lexer": "ipython3",
   "version": "3.6.2+"
  }
 },
 "nbformat": 4,
 "nbformat_minor": 2
}
