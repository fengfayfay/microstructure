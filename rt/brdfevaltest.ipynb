{
 "cells": [
  {
   "cell_type": "raw",
   "metadata": {},
   "source": [
    "import brdf;\n",
    "import vec3;\n",
    "import math;\n",
    "import random;\n",
    "import matplotlib.pyplot as plt;\n",
    "import microfacet;\n",
    "zipin= brdf.ZipinBrdf(.3, .3);\n",
    "wo = vec3.Vec3(random.uniform(0,1), random.uniform(0, 1), random.uniform(0, 1));\n",
    "u = (random.uniform(0,1), random.uniform(0, 1));\n",
    "print(wo, u)\n",
    "zsample =zipin.Sample(wo, u);\n",
    "zeval = zipin.Eval(wo, zsample[2]);\n",
    "print(zsample[2])\n",
    "print(zeval, zsample);\n",
    "\n",
    "beckman = brdf.Brdf(.3, .3);\n",
    "bsample = beckman.Sample(wo, u);\n",
    "beval = beckman.Eval(wo, bsample[2]);\n",
    "print(bsample[2]);\n",
    "print(beval, bsample);\n",
    "\n",
    "\n",
    "theta_o = math.pi /3.0;\n",
    "phi_o = math.pi * 2.0 * random.uniform(0,1);\n",
    "wo = vec3.Vec3(math.sin(theta_o) * math.sin(phi_o), math.sin(theta_o)* math.cos(phi_o), math.cos(theta_o));\n",
    "xdata= [];              \n",
    "zdata=[];   \n",
    "bdata = [];\n",
    "for i in range(300):\n",
    "    u = (random.uniform(0, 1), random.uniform(0, 1));\n",
    "    zsample.append( zipin.Sample(wo,u));\n",
    "    bsample.append(beckman.Sample(wo,u));\n",
    "sorted(zsample, key=lambda x:x[2].z)\n",
    "sorted(bsample, key=lambda x:x[2].z)\n",
    "for s in zsample:\n",
    "    xdata.append(s[2].z)\n",
    "    zdata.append(s[0])\n",
    "\n",
    "fig, ax = plt.subplots()\n",
    "ax.plot(xdata, zdata, 'o');\n",
    "plt.autoscale(True, 'both', True)\n",
    "plt.show()\n",
    "\n",
    "\n"
   ]
  },
  {
   "cell_type": "code",
   "execution_count": null,
   "metadata": {},
   "outputs": [],
   "source": [
    "\n"
   ]
  },
  {
   "cell_type": "code",
   "execution_count": null,
   "metadata": {},
   "outputs": [],
   "source": [
    "\n",
    "\n"
   ]
  },
  {
   "cell_type": "code",
   "execution_count": null,
   "metadata": {},
   "outputs": [],
   "source": []
  },
  {
   "cell_type": "code",
   "execution_count": null,
   "metadata": {},
   "outputs": [],
   "source": []
  },
  {
   "cell_type": "code",
   "execution_count": 11,
   "metadata": {},
   "outputs": [
    {
     "name": "stdout",
     "output_type": "stream",
     "text": [
      "0.860238485217282\n"
     ]
    }
   ],
   "source": []
  },
  {
   "cell_type": "code",
   "execution_count": 30,
   "metadata": {},
   "outputs": [
    {
     "name": "stdout",
     "output_type": "stream",
     "text": [
      "Vec3(0, 0.49999999999999994, 0.8660254037844387) (0.5, 0.5)\n",
      "Vec3(-0.6363262751221183, 7.792749360416602e-17, 0.771420035771181)\n",
      "(0.028258781042322854, 0.024488601970353203) (0.028258781042322767, 0.0217993898825186, <vec3.Vec3 object at 0x103de79b0>, <vec3.Vec3 object at 0x103de7978>)\n",
      "Vec3(-0.1432100323585176, -0.49999999999999994, 0.8541023865040259)\n",
      "(0.05362388480800817, 0.04580028798813677) (0.053623884808006964, 0.04580028798813573, <vec3.Vec3 object at 0x103de7b38>)\n"
     ]
    },
    {
     "data": {
      "image/png": "[encoded data removed]",
      "text/plain": [
       "<matplotlib.figure.Figure at 0x103dc6048>"
      ]
     },
     "metadata": {},
     "output_type": "display_data"
    }
   ],
   "source": [
    "import brdf;\n",
    "import vec3;\n",
    "import math;\n",
    "import random;\n",
    "import matplotlib.pyplot as plt;\n",
    "import microfacet;\n",
    "\n",
    "alpha = .1\n",
    "zipin= brdf.ZipinBrdf(alpha, alpha);\n",
    "theta_o = math.pi /6;\n",
    "wo = vec3.Vec3(0, math.sin(theta_o), math.cos(theta_o));\n",
    "u = (.5, .5)\n",
    "#wo = vec3.Vec3(random.uniform(0,1), random.uniform(0, 1), random.uniform(0, 1));\n",
    "#u = (random.uniform(0,1), random.uniform(0, 1));\n",
    "print(wo, u)\n",
    "zsample =zipin.Sample(wo, u);\n",
    "if zsample[0]>0:\n",
    "    zeval = zipin.Eval(wo, zsample[2]);\n",
    "    print(zsample[2])\n",
    "    print(zeval, zsample);\n",
    "\n",
    "beckman = brdf.Brdf(alpha, alpha);\n",
    "bsample = beckman.Sample(wo, u);\n",
    "if bsample[0]>0:\n",
    "    beval = beckman.Eval(wo, bsample[2]);\n",
    "    print(bsample[2]);\n",
    "    print(beval, bsample);\n",
    "    \n",
    "\n",
    "\n",
    "\n",
    "phi_o = math.pi * 2.0 * random.uniform(0,1);\n",
    "#wo = vec3.Vec3(math.sin(theta_o) * math.sin(phi_o), math.sin(theta_o)* math.cos(phi_o), math.cos(theta_o));\n",
    "wo = vec3.Vec3(0, math.sin(theta_o), math.cos(theta_o));\n",
    "xdata= [];              \n",
    "zdata=[]; \n",
    "bdata = [];\n",
    "zsamples = []\n",
    "bsamples = []\n",
    "sampleCount = 1000\n",
    "minAngle = -theta_o - math.pi * .5 \n",
    "maxAngle = minAngle + math.pi \n",
    "minAngle += 1\n",
    "maxAngle -= 1\n",
    "rangeAngle = maxAngle - minAngle\n",
    "for i in range(1,sampleCount):\n",
    "    thetaWi = minAngle + rangeAngle * float(i)/float(sampleCount) \n",
    "    mu = math.cos(thetaWi)\n",
    "    wi = vec3.Vec3(0, math.sin(thetaWi), math.cos(thetaWi))\n",
    "    beval = beckman.Eval(wo, wi, False)\n",
    "    zeval = zipin.Eval(wo, wi)\n",
    "    bsamples.append(beval) \n",
    "    zsamples.append(zeval)\n",
    "    xdata.append(thetaWi)\n",
    "    #xdata.append(mu)\n",
    "    bdata.append(beval[0])\n",
    "    zdata.append(zeval[0])\n",
    "    \n",
    "\n",
    "\n",
    "plt.plot(xdata, bdata, color = 'green');\n",
    "plt.plot(xdata, zdata, color = 'red');\n",
    "plt.autoscale(True, 'both', True)\n",
    "plt.show()  \n",
    "\n"
   ]
  },
  {
   "cell_type": "code",
   "execution_count": null,
   "metadata": {},
   "outputs": [],
   "source": []
  },
  {
   "cell_type": "code",
   "execution_count": 12,
   "metadata": {},
   "outputs": [
    {
     "name": "stdout",
     "output_type": "stream",
     "text": [
      "1.4448341712182988 -0.46579906503072\n"
     ]
    }
   ],
   "source": []
  },
  {
   "cell_type": "code",
   "execution_count": 13,
   "metadata": {},
   "outputs": [
    {
     "name": "stdout",
     "output_type": "stream",
     "text": [
      "0.8668083907638165\n"
     ]
    }
   ],
   "source": []
  },
  {
   "cell_type": "code",
   "execution_count": null,
   "metadata": {},
   "outputs": [],
   "source": []
  },
  {
   "cell_type": "code",
   "execution_count": 14,
   "metadata": {},
   "outputs": [
    {
     "name": "stdout",
     "output_type": "stream",
     "text": [
      "0.2447587765468946 0.24475877654689454\n"
     ]
    }
   ],
   "source": [
    "\n"
   ]
  },
  {
   "cell_type": "code",
   "execution_count": null,
   "metadata": {},
   "outputs": [],
   "source": []
  },
  {
   "cell_type": "code",
   "execution_count": null,
   "metadata": {},
   "outputs": [],
   "source": []
  },
  {
   "cell_type": "code",
   "execution_count": null,
   "metadata": {},
   "outputs": [],
   "source": []
  }
 ],
 "metadata": {
  "kernelspec": {
   "display_name": "Python 3",
   "language": "python",
   "name": "python3"
  },
  "language_info": {
   "codemirror_mode": {
    "name": "ipython",
    "version": 3
   },
   "file_extension": ".py",
   "mimetype": "text/x-python",
   "name": "python",
   "nbconvert_exporter": "python",
   "pygments_lexer": "ipython3",
   "version": "3.6.3"
  }
 },
 "nbformat": 4,
 "nbformat_minor": 2
}
