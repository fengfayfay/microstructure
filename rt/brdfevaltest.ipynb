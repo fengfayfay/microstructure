{
 "cells": [
  {
   "cell_type": "raw",
   "metadata": {},
   "source": [
    "import brdf;\n",
    "import vec3;\n",
    "import math;\n",
    "import random;\n",
    "import matplotlib.pyplot as plt;\n",
    "import microfacet;\n",
    "zipin= brdf.ZipinBrdf(.3, .3);\n",
    "wo = vec3.Vec3(random.uniform(0,1), random.uniform(0, 1), random.uniform(0, 1));\n",
    "u = (random.uniform(0,1), random.uniform(0, 1));\n",
    "print(wo, u)\n",
    "zsample =zipin.Sample(wo, u);\n",
    "zeval = zipin.Eval(wo, zsample[2]);\n",
    "print(zsample[2])\n",
    "print(zeval, zsample);\n",
    "\n",
    "beckman = brdf.Brdf(.3, .3);\n",
    "bsample = beckman.Sample(wo, u);\n",
    "beval = beckman.Eval(wo, bsample[2]);\n",
    "print(bsample[2]);\n",
    "print(beval, bsample);\n",
    "\n",
    "\n",
    "theta_o = math.pi /3.0;\n",
    "phi_o = math.pi * 2.0 * random.uniform(0,1);\n",
    "wo = vec3.Vec3(math.sin(theta_o) * math.sin(phi_o), math.sin(theta_o)* math.cos(phi_o), math.cos(theta_o));\n",
    "xdata= [];              \n",
    "zdata=[];   \n",
    "bdata = [];\n",
    "for i in range(300):\n",
    "    u = (random.uniform(0, 1), random.uniform(0, 1));\n",
    "    zsample.append( zipin.Sample(wo,u));\n",
    "    bsample.append(beckman.Sample(wo,u));\n",
    "sorted(zsample, key=lambda x:x[2].z)\n",
    "sorted(bsample, key=lambda x:x[2].z)\n",
    "for s in zsample:\n",
    "    xdata.append(s[2].z)\n",
    "    zdata.append(s[0])\n",
    "\n",
    "fig, ax = plt.subplots()\n",
    "ax.plot(xdata, zdata, 'o');\n",
    "plt.autoscale(True, 'both', True)\n",
    "plt.show()\n",
    "\n",
    "\n"
   ]
  },
  {
   "cell_type": "code",
   "execution_count": null,
   "metadata": {},
   "outputs": [],
   "source": [
    "\n"
   ]
  },
  {
   "cell_type": "code",
   "execution_count": null,
   "metadata": {},
   "outputs": [],
   "source": [
    "\n",
    "\n"
   ]
  },
  {
   "cell_type": "code",
   "execution_count": null,
   "metadata": {},
   "outputs": [],
   "source": []
  },
  {
   "cell_type": "code",
   "execution_count": null,
   "metadata": {},
   "outputs": [],
   "source": []
  },
  {
   "cell_type": "code",
   "execution_count": 11,
   "metadata": {},
   "outputs": [
    {
     "name": "stdout",
     "output_type": "stream",
     "text": [
      "0.860238485217282\n"
     ]
    }
   ],
   "source": []
  },
  {
   "cell_type": "code",
   "execution_count": null,
   "metadata": {},
   "outputs": [],
   "source": []
  },
  {
   "cell_type": "code",
   "execution_count": 12,
   "metadata": {},
   "outputs": [
    {
     "name": "stdout",
     "output_type": "stream",
     "text": [
      "1.4448341712182988 -0.46579906503072\n"
     ]
    }
   ],
   "source": []
  },
  {
   "cell_type": "code",
   "execution_count": 13,
   "metadata": {},
   "outputs": [
    {
     "name": "stdout",
     "output_type": "stream",
     "text": [
      "0.8668083907638165\n"
     ]
    }
   ],
   "source": []
  },
  {
   "cell_type": "code",
   "execution_count": null,
   "metadata": {},
   "outputs": [],
   "source": []
  },
  {
   "cell_type": "code",
   "execution_count": 7,
   "metadata": {},
   "outputs": [
    {
     "name": "stdout",
     "output_type": "stream",
     "text": [
      "Vec3(0, 0.8660254037844386, 0.5000000000000001) (0.5, 0.5)\n",
      "Vec3(0.3254473095399483, -3.985580059192156e-17, 0.9455601772035501)\n",
      "(0.14729436667462953, 0.03551619229962019) (0.05984046533846029, 0.03408802914839078, <vec3.Vec3 object at 0x10d20af98>, <vec3.Vec3 object at 0x10d20af28>)\n",
      "Vec3(-0.49080139451758215, -0.8660254037844385, 0.09546722547344133)\n",
      "(0.058420923433127395, 0.22898341127868593) (0.058420923433127395, 0.22898341127868596, <vec3.Vec3 object at 0x10d21a0f0>)\n"
     ]
    },
    {
     "data": {
      "image/png": "[encoded data removed]",
      "text/plain": [
       "<matplotlib.figure.Figure at 0x10d09c470>"
      ]
     },
     "metadata": {},
     "output_type": "display_data"
    }
   ],
   "source": [
    "import brdf;\n",
    "import vec3;\n",
    "import math;\n",
    "import random;\n",
    "import matplotlib.pyplot as plt;\n",
    "import microfacet;\n",
    "\n",
    "alpha = .99\n",
    "\n",
    "zipin= brdf.ZipinBrdf(alpha, alpha);\n",
    "theta_o = math.pi /3;\n",
    "wo = vec3.Vec3(0, math.sin(theta_o), math.cos(theta_o));\n",
    "u = (.5, .5)\n",
    "#wo = vec3.Vec3(random.uniform(0,1), random.uniform(0, 1), random.uniform(0, 1));\n",
    "#u = (random.uniform(0,1), random.uniform(0, 1));\n",
    "print(wo, u)\n",
    "zsample =zipin.Sample(wo, u);\n",
    "if zsample[0]>0:\n",
    "    zeval = zipin.Eval(wo, zsample[2]);\n",
    "    print(zsample[2])\n",
    "    print(zeval, zsample);\n",
    "\n",
    "beckman = brdf.Brdf(alpha, alpha);\n",
    "bsample = beckman.Sample(wo, u);\n",
    "if bsample[0]>0:\n",
    "    beval = beckman.Eval(wo, bsample[2]);\n",
    "    print(bsample[2]);\n",
    "    print(beval, bsample);\n",
    "    \n",
    "\n",
    "\n",
    "\n",
    "phi_o = math.pi * 2.0 * random.uniform(0,1);\n",
    "#wo = vec3.Vec3(math.sin(theta_o) * math.sin(phi_o), math.sin(theta_o)* math.cos(phi_o), math.cos(theta_o));\n",
    "wo = vec3.Vec3(0, math.sin(theta_o), math.cos(theta_o));\n",
    "xdata= [];              \n",
    "zdata=[]; \n",
    "bdata = [];\n",
    "zsamples = []\n",
    "bsamples = []\n",
    "sampleCount = 1000\n",
    "minAngle = -theta_o - math.pi  \n",
    "maxAngle = minAngle + math.pi *2.0\n",
    "#minAngle += 1\n",
    "#maxAngle -= 1\n",
    "rangeAngle = maxAngle - minAngle\n",
    "for i in range(1,sampleCount):\n",
    "    thetaWi = minAngle + rangeAngle * float(i)/float(sampleCount) \n",
    "    mu = math.cos(thetaWi)\n",
    "    #mu = i/sampleCount\n",
    "    wi = vec3.Vec3(0, math.sin(thetaWi), mu)\n",
    "    beval = beckman.Eval(wo, wi, True)\n",
    "    zeval = zipin.Eval(wo, wi)\n",
    "    bsamples.append(beval) \n",
    "    zsamples.append(zeval)\n",
    "    xdata.append(thetaWi)\n",
    "    #xdata.append(mu)\n",
    "    bdata.append(beval[0])\n",
    "    zdata.append(zeval[0])\n",
    "    \n",
    "\n",
    "\n",
    "plt.plot(xdata, bdata, color = 'green');\n",
    "plt.plot(xdata, zdata, color = 'red');\n",
    "plt.autoscale(True, 'both', True)\n",
    "plt.show()  \n",
    "\n"
   ]
  },
  {
   "cell_type": "code",
   "execution_count": null,
   "metadata": {},
   "outputs": [],
   "source": [
    "\n"
   ]
  },
  {
   "cell_type": "code",
   "execution_count": null,
   "metadata": {},
   "outputs": [],
   "source": []
  },
  {
   "cell_type": "code",
   "execution_count": null,
   "metadata": {},
   "outputs": [],
   "source": []
  },
  {
   "cell_type": "code",
   "execution_count": null,
   "metadata": {},
   "outputs": [],
   "source": []
  }
 ],
 "metadata": {
  "kernelspec": {
   "display_name": "Python 3",
   "language": "python",
   "name": "python3"
  },
  "language_info": {
   "codemirror_mode": {
    "name": "ipython",
    "version": 3
   },
   "file_extension": ".py",
   "mimetype": "text/x-python",
   "name": "python",
   "nbconvert_exporter": "python",
   "pygments_lexer": "ipython3",
   "version": "3.6.3"
  }
 },
 "nbformat": 4,
 "nbformat_minor": 2
}
