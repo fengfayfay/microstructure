{
 "cells": [
  {
   "cell_type": "code",
   "execution_count": 1,
   "metadata": {},
   "outputs": [
    {
     "name": "stdout",
     "output_type": "stream",
     "text": [
      "Vec3(0, 0.8660254037844386, 0.5000000000000001) (0.5, 0.5)\n",
      "Vec3(-0.7714200357711807, 9.447170776053131e-17, 0.6363262751221187)\n",
      "(2.7382065107771605, 2.487037924509048) (1.6112868624270869, 1.1460485814614487, <vec3.Vec3 object at 0x104651208>, <vec3.Vec3 object at 0x1046511d0>)\n",
      "Vec3(-0.08268235073284515, -0.8660254037844386, 0.4931162427636012)\n",
      "(8.06844728703143, 8.06844728703143) (8.06844728703143, 8.06844728703143, <vec3.Vec3 object at 0x1046513c8>)\n"
     ]
    },
    {
     "data": {
      "image/png": "[encoded data removed]",
      "text/plain": [
       "<matplotlib.figure.Figure at 0x104538ef0>"
      ]
     },
     "metadata": {},
     "output_type": "display_data"
    }
   ],
   "source": [
    "import brdf;\n",
    "import vec3;\n",
    "import math;\n",
    "import random;\n",
    "import matplotlib.pyplot as plt;\n",
    "import microfacet;\n",
    "\n",
    "#critical value of alpha when the beckman starts to have double peak\n",
    "alpha = .1\n",
    "\n",
    "\n",
    "\n",
    "zipin= brdf.ZipinBrdf(alpha, alpha);\n",
    "theta_o = math.pi /3;\n",
    "wo = vec3.Vec3(0, math.sin(theta_o), math.cos(theta_o));\n",
    "u = (.5, .5)\n",
    "#wo = vec3.Vec3(random.uniform(0,1), random.uniform(0, 1), random.uniform(0, 1));\n",
    "#u = (random.uniform(0,1), random.uniform(0, 1));\n",
    "print(wo, u)\n",
    "zsample =zipin.Sample(wo, u);\n",
    "if zsample[0]>0:\n",
    "    zeval = zipin.Eval(wo, zsample[2]);\n",
    "    print(zsample[2])\n",
    "    print(zeval, zsample);\n",
    "\n",
    "beckman = brdf.Brdf(alpha, alpha);\n",
    "bsample = beckman.Sample(wo, u);\n",
    "if bsample[0]>0:\n",
    "    beval = beckman.Eval(wo, bsample[2]);\n",
    "    print(bsample[2]);\n",
    "    print(beval, bsample);\n",
    "\n",
    "\n",
    "phi_o = math.pi * 2.0 * random.uniform(0,1);\n",
    "#wo = vec3.Vec3(math.sin(theta_o) * math.sin(phi_o), math.sin(theta_o)* math.cos(phi_o), math.cos(theta_o));\n",
    "wo = vec3.Vec3(0, math.sin(theta_o), math.cos(theta_o));\n",
    "xdata= [];              \n",
    "zdata=[]; \n",
    "bdata = [];\n",
    "zsamples = []\n",
    "bsamples = []\n",
    "sampleCount = 1000\n",
    "minAngle = -theta_o - math.pi  \n",
    "maxAngle = minAngle + math.pi *2.0\n",
    "\n",
    "rangeAngle = maxAngle - minAngle\n",
    "for i in range(1,sampleCount):\n",
    "    thetaWi = minAngle + rangeAngle * float(i)/float(sampleCount) \n",
    "    mu = math.cos(thetaWi)\n",
    "    #mu = i/sampleCount\n",
    "    wi = vec3.Vec3(0, math.sin(thetaWi), mu)\n",
    "    beval = beckman.Eval(wo, wi, False)\n",
    "    zeval = zipin.Eval(wo, wi)\n",
    "    bsamples.append(beval) \n",
    "    zsamples.append(zeval)\n",
    "    xdata.append(thetaWi)\n",
    "    bdata.append(beval[0] * .04)\n",
    "    zdata.append(zeval[0] * .04)\n",
    "    \n",
    "\n",
    "\n",
    "plt.plot(xdata, bdata, color = 'green');\n",
    "plt.plot(xdata, zdata, color = 'red');\n",
    "plt.autoscale(True, 'both', True)\n",
    "plt.show()  \n",
    "\n"
   ]
  },
  {
   "cell_type": "code",
   "execution_count": null,
   "metadata": {},
   "outputs": [],
   "source": []
  }
 ],
 "metadata": {
  "kernelspec": {
   "display_name": "Python 3",
   "language": "python",
   "name": "python3"
  },
  "language_info": {
   "codemirror_mode": {
    "name": "ipython",
    "version": 3
   },
   "file_extension": ".py",
   "mimetype": "text/x-python",
   "name": "python",
   "nbconvert_exporter": "python",
   "pygments_lexer": "ipython3",
   "version": "3.6.3"
  }
 },
 "nbformat": 4,
 "nbformat_minor": 2
}
