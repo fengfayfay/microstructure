{
 "cells": [
  {
   "cell_type": "code",
   "execution_count": 1,
   "metadata": {},
   "outputs": [
    {
     "name": "stdout",
     "output_type": "stream",
     "text": [
      "zipinVersion:  Feng\n",
      "Vec3(0, 0.8660254037844386, 0.5000000000000001) (0.5, 0.5)\n",
      "Vec3(-0.9994192913487604, 1.2239356361563754e-16, 0.03407462516215794)\n",
      "(0.28311521855868743, 0.25883246540655724) (0.28311521855868754, 0.28311521855868754, <vec3.Vec3 object at 0x1057e1be0>, <vec3.Vec3 object at 0x1057e1ba8>)\n",
      "Vec3(-0.23510007732975968, -0.8660254037844386, 0.4412799039606734)\n",
      "(0.9979529196086191, 0.9979529196086191) (0.9979529196086167, 0.9979529196086167, <vec3.Vec3 object at 0x1057e1d68>)\n"
     ]
    }
   ],
   "source": [
    "import brdf;\n",
    "import vec3;\n",
    "import math;\n",
    "import random;\n",
    "import matplotlib.pyplot as plt;\n",
    "import microfacet;\n",
    "alpha = .3\n",
    "zipinVersion = 'Feng'\n",
    "zipin= brdf.ZipinBrdf(alpha, alpha, zipinVersion);\n",
    "theta_o = math.pi /3;\n",
    "wo = vec3.Vec3(0, math.sin(theta_o), math.cos(theta_o));\n",
    "u = (.5, .5)\n",
    "#wo = vec3.Vec3(random.uniform(0,1), random.uniform(0, 1), random.uniform(0, 1));\n",
    "#u = (random.uniform(0,1), random.uniform(0, 1));\n",
    "print(wo, u)\n",
    "zsample =zipin.Sample(wo, u);\n",
    "if zsample[0]>0:\n",
    "    zeval = zipin.Eval(wo, zsample[2]);\n",
    "    print(zsample[2])\n",
    "    print(zeval, zsample);\n",
    "\n",
    "beckman = brdf.Brdf(alpha, alpha);\n",
    "bsample = beckman.Sample(wo, u);\n",
    "if bsample[0]>0:\n",
    "    beval = beckman.Eval(wo, bsample[2]);\n",
    "    print(bsample[2]);\n",
    "    print(beval, bsample);"
   ]
  },
  {
   "cell_type": "code",
   "execution_count": 2,
   "metadata": {},
   "outputs": [
    {
     "name": "stdout",
     "output_type": "stream",
     "text": [
      "zipinVersion:  Feng\n"
     ]
    },
    {
     "data": {
      "image/png": "[encoded data removed]",
      "text/plain": [
       "<matplotlib.figure.Figure at 0x1041db438>"
      ]
     },
     "metadata": {},
     "output_type": "display_data"
    }
   ],
   "source": [
    "import brdf;\n",
    "import vec3;\n",
    "import math;\n",
    "import random;\n",
    "import matplotlib.pyplot as plt;\n",
    "import microfacet;\n",
    "\n",
    "#critical value of alpha when the beckman starts to have double peak\n",
    "alpha = .9\n",
    "\n",
    "zipinVersion = 'Feng'\n",
    "beckman = brdf.Brdf(alpha, alpha);\n",
    "zipin= brdf.ZipinBrdf(alpha, alpha,  zipinVersion);\n",
    "theta_o = math.pi /3;\n",
    "wo = vec3.Vec3(0, math.sin(theta_o), math.cos(theta_o))\n",
    "xdata= [];              \n",
    "zdata=[]; \n",
    "bdata = [];\n",
    "zsamples = []\n",
    "bsamples = []\n",
    "sampleCount = 1000\n",
    "minAngle = -theta_o - math.pi  \n",
    "maxAngle = minAngle + math.pi *2.0\n",
    "\n",
    "rangeAngle = maxAngle - minAngle\n",
    "maxBounce = 5\n",
    "for i in range(1,sampleCount):\n",
    "    thetaWi = minAngle + rangeAngle * float(i)/float(sampleCount) \n",
    "    mu = math.cos(thetaWi)\n",
    "    #mu = i/sampleCount\n",
    "    wi = vec3.Vec3(0, math.sin(thetaWi), mu)\n",
    "    beval = beckman.Eval(wo, wi, False)\n",
    "    zeval = zipin.Eval(wo, wi, maxBounce)\n",
    "    bsamples.append(beval) \n",
    "    zsamples.append(zeval)\n",
    "    xdata.append(math.degrees(thetaWi))\n",
    "    bdata.append(beval[0])\n",
    "    zdata.append(zeval[0])\n",
    "\n",
    "plt.plot(xdata, bdata, color = 'green');\n",
    "plt.plot(xdata, zdata, color = 'red');\n",
    "plt.autoscale(True, 'both', True)\n",
    "plt.show()  \n",
    "\n"
   ]
  },
  {
   "cell_type": "code",
   "execution_count": null,
   "metadata": {},
   "outputs": [],
   "source": [
    "import brdf;\n",
    "import vec3;\n",
    "import math;\n",
    "import random;\n",
    "import matplotlib.pyplot as plt;\n",
    "import microfacet;"
   ]
  },
  {
   "cell_type": "code",
   "execution_count": 9,
   "metadata": {},
   "outputs": [],
   "source": [
    "alpha = .3\n",
    "beckman = brdf.Brdf(alpha, alpha);\n",
    "theta_o = math.pi /3;\n",
    "wo = vec3.Vec3(0, math.sin(theta_o), math.cos(theta_o));\n",
    "bsample = beckman.Sample(wo, u);\n"
   ]
  },
  {
   "cell_type": "code",
   "execution_count": 12,
   "metadata": {},
   "outputs": [
    {
     "name": "stdout",
     "output_type": "stream",
     "text": [
      "Vec3(-0.23510007732975968, -0.8660254037844386, 0.4412799039606734)\n"
     ]
    }
   ],
   "source": [
    "print(bsample[2]);\n",
    "wi = bsample[2]"
   ]
  },
  {
   "cell_type": "code",
   "execution_count": 11,
   "metadata": {},
   "outputs": [
    {
     "name": "stdout",
     "output_type": "stream",
     "text": [
      "(0.9979529196086167, 0.9979529196086167, <vec3.Vec3 object at 0x10e7a7ac8>)\n"
     ]
    }
   ],
   "source": [
    "print(bsample);"
   ]
  },
  {
   "cell_type": "code",
   "execution_count": 13,
   "metadata": {},
   "outputs": [],
   "source": [
    "wh = (wo + wi).norm()"
   ]
  },
  {
   "cell_type": "code",
   "execution_count": 14,
   "metadata": {},
   "outputs": [
    {
     "name": "stdout",
     "output_type": "stream",
     "text": [
      "Vec3(-0.24232229785830012, 0.0, 0.970195807020765)\n"
     ]
    }
   ],
   "source": [
    "print(wh);"
   ]
  },
  {
   "cell_type": "code",
   "execution_count": 15,
   "metadata": {},
   "outputs": [
    {
     "name": "stdout",
     "output_type": "stream",
     "text": [
      "0.9979529196086191\n"
     ]
    }
   ],
   "source": [
    "bvNoG = beckman.MicrofacetValue(wo, wi, wh, True);\n",
    "print(bvNoG);"
   ]
  },
  {
   "cell_type": "code",
   "execution_count": 17,
   "metadata": {},
   "outputs": [
    {
     "name": "stdout",
     "output_type": "stream",
     "text": [
      "1.9959058392172386\n"
     ]
    }
   ],
   "source": [
    "D = beckman.microfacet.D(wh);\n",
    "print(D);"
   ]
  },
  {
   "cell_type": "code",
   "execution_count": 18,
   "metadata": {},
   "outputs": [
    {
     "name": "stdout",
     "output_type": "stream",
     "text": [
      "1.936419476416826\n"
     ]
    }
   ],
   "source": [
    "mpdf = beckman.microfacet.Pdf(wh);\n",
    "print(mpdf);"
   ]
  },
  {
   "cell_type": "code",
   "execution_count": 19,
   "metadata": {},
   "outputs": [
    {
     "name": "stdout",
     "output_type": "stream",
     "text": [
      "0.9979529196086191 0.9979529196086191\n"
     ]
    }
   ],
   "source": [
    "testMV = D/(4.0 * wo.z);\n",
    "testMP = mpdf/(4.0 * vec3.dot(wo, wh));\n",
    "print(testMV, testMP);\n"
   ]
  },
  {
   "cell_type": "code",
   "execution_count": 20,
   "metadata": {},
   "outputs": [
    {
     "name": "stdout",
     "output_type": "stream",
     "text": [
      "0.5000000000000001 0.4850979035103826\n"
     ]
    }
   ],
   "source": [
    "oh = vec3.dot(wo, wh);\n",
    "print(wo.z, oh);"
   ]
  },
  {
   "cell_type": "code",
   "execution_count": 21,
   "metadata": {},
   "outputs": [
    {
     "name": "stdout",
     "output_type": "stream",
     "text": [
      "1\n"
     ]
    }
   ],
   "source": [
    "g = beckman.microfacet.G(wo, wi, wh);\n",
    "print(g);"
   ]
  },
  {
   "cell_type": "code",
   "execution_count": null,
   "metadata": {},
   "outputs": [],
   "source": []
  }
 ],
 "metadata": {
  "kernelspec": {
   "display_name": "Python 3",
   "language": "python",
   "name": "python3"
  },
  "language_info": {
   "codemirror_mode": {
    "name": "ipython",
    "version": 3
   },
   "file_extension": ".py",
   "mimetype": "text/x-python",
   "name": "python",
   "nbconvert_exporter": "python",
   "pygments_lexer": "ipython3",
   "version": "3.6.3"
  }
 },
 "nbformat": 4,
 "nbformat_minor": 2
}
