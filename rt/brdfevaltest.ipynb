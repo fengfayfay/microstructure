{
 "cells": [
  {
   "cell_type": "code",
   "execution_count": 7,
   "metadata": {},
   "outputs": [
    {
     "data": {
      "image/png": "[encoded data removed]",
      "text/plain": [
       "<matplotlib.figure.Figure at 0x1082686d8>"
      ]
     },
     "metadata": {},
     "output_type": "display_data"
    }
   ],
   "source": [
    "import brdf;\n",
    "import vec3;\n",
    "import math;\n",
    "import random;\n",
    "import matplotlib.pyplot as plt;\n",
    "import microfacet;\n",
    "\n",
    "#critical value of alpha when the beckman starts to have double peak\n",
    "alpha = .5\n",
    "\n",
    "beckman = brdf.Brdf(alpha, alpha);\n",
    "zipin= brdf.ZipinBrdf(alpha, alpha);\n",
    "theta_o = math.pi /3;\n",
    "wo = vec3.Vec3(0, math.sin(theta_o), math.cos(theta_o))\n",
    "xdata= [];              \n",
    "zdata=[]; \n",
    "bdata = [];\n",
    "zsamples = []\n",
    "bsamples = []\n",
    "sampleCount = 1000\n",
    "minAngle = -theta_o - math.pi  \n",
    "maxAngle = minAngle + math.pi *2.0\n",
    "\n",
    "rangeAngle = maxAngle - minAngle\n",
    "maxBounce = 1\n",
    "for i in range(1,sampleCount):\n",
    "    thetaWi = minAngle + rangeAngle * float(i)/float(sampleCount) \n",
    "    mu = math.cos(thetaWi)\n",
    "    #mu = i/sampleCount\n",
    "    wi = vec3.Vec3(0, math.sin(thetaWi), mu)\n",
    "    beval = beckman.Eval(wo, wi, False)\n",
    "    zeval = zipin.Eval(wo, wi, maxBounce)\n",
    "    bsamples.append(beval) \n",
    "    zsamples.append(zeval)\n",
    "    xdata.append(thetaWi)\n",
    "    bdata.append(beval[0])\n",
    "    zdata.append(zeval[0])\n",
    "\n",
    "plt.plot(xdata, bdata, color = 'green');\n",
    "plt.plot(xdata, zdata, color = 'red');\n",
    "plt.autoscale(True, 'both', True)\n",
    "plt.show()  \n",
    "\n"
   ]
  },
  {
   "cell_type": "code",
   "execution_count": 2,
   "metadata": {},
   "outputs": [
    {
     "name": "stdout",
     "output_type": "stream",
     "text": [
      "Vec3(0, 0.8660254037844386, 0.5000000000000001) (0.5, 0.5)\n",
      "1.0471975511965976 1.487732430572485 Vec3(0.06024147803664809, -0.05705016704935145, 0.9965521776422954) 1.1790684195714247 1.8045952685545583 0.42789865566995533 right\n",
      "1.0471975511965976 1.653860223017308 Vec3(0.07312018206430061, 0.03920709388978468, 0.9965521776422954) 1.1303972324393083 2.139733631498675 0.42789865566995533 left\n",
      "1.0471975511965976 0.22026743968794377 Vec3(0.8414170911039954, -0.49424602434864295, 0.21849060898274603) -0.0 -0.0 0.5338755986590993 left\n",
      "Vec3(-0.9367847372368708, 1.1472304299472281e-16, 0.34990621040508396)\n",
      "(0.9882172478113295, 1.687773033852932) (0.7361085411999366, 0.8571779321967583, <vec3.Vec3 object at 0x1088634a8>, <vec3.Vec3 object at 0x108863470>)\n",
      "Vec3(-0.08268235073284515, -0.8660254037844386, 0.4931162427636012)\n",
      "(8.06844728703143, 8.06844728703143) (8.06844728703143, 8.06844728703143, <vec3.Vec3 object at 0x1088639e8>)\n"
     ]
    }
   ],
   "source": [
    "import brdf;\n",
    "import vec3;\n",
    "import math;\n",
    "import random;\n",
    "import matplotlib.pyplot as plt;\n",
    "import microfacet;\n",
    "alpha = .1\n",
    "zipin= brdf.ZipinBrdf(alpha, alpha);\n",
    "theta_o = math.pi /3;\n",
    "wo = vec3.Vec3(0, math.sin(theta_o), math.cos(theta_o));\n",
    "u = (.5, .5)\n",
    "#wo = vec3.Vec3(random.uniform(0,1), random.uniform(0, 1), random.uniform(0, 1));\n",
    "#u = (random.uniform(0,1), random.uniform(0, 1));\n",
    "print(wo, u)\n",
    "zsample =zipin.Sample(wo, u);\n",
    "if zsample[0]>0:\n",
    "    zeval = zipin.Eval(wo, zsample[2]);\n",
    "    print(zsample[2])\n",
    "    print(zeval, zsample);\n",
    "\n",
    "beckman = brdf.Brdf(alpha, alpha);\n",
    "bsample = beckman.Sample(wo, u);\n",
    "if bsample[0]>0:\n",
    "    beval = beckman.Eval(wo, bsample[2]);\n",
    "    print(bsample[2]);\n",
    "    print(beval, bsample);"
   ]
  },
  {
   "cell_type": "code",
   "execution_count": null,
   "metadata": {},
   "outputs": [],
   "source": []
  }
 ],
 "metadata": {
  "kernelspec": {
   "display_name": "Python 3",
   "language": "python",
   "name": "python3"
  },
  "language_info": {
   "codemirror_mode": {
    "name": "ipython",
    "version": 3
   },
   "file_extension": ".py",
   "mimetype": "text/x-python",
   "name": "python",
   "nbconvert_exporter": "python",
   "pygments_lexer": "ipython3",
   "version": "3.6.3"
  }
 },
 "nbformat": 4,
 "nbformat_minor": 2
}
