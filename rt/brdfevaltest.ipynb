{
 "cells": [
  {
   "cell_type": "markdown",
   "metadata": {},
   "source": [
    "This test compares single bounce ZipinBrdf with Beckman Brdf using Blin G\n",
    "alpha is roughness, increase this value will increase the spread of the brdf.\n",
    "theta_o is the incident direction, phi is fixed at 0.\n"
   ]
  },
  {
   "cell_type": "code",
   "execution_count": 1,
   "metadata": {},
   "outputs": [],
   "source": [
    "import math;\n",
    "alpha = .9\n",
    "theta_o = math.pi/3;\n",
    "maxBounce = 4"
   ]
  },
  {
   "cell_type": "code",
   "execution_count": 6,
   "metadata": {},
   "outputs": [
    {
     "name": "stdout",
     "output_type": "stream",
     "text": [
      "zipinVersion:  Feng\n"
     ]
    },
    {
     "data": {
      "image/png": "[encoded data removed]",
      "text/plain": [
       "<matplotlib.figure.Figure at 0x1045a39e8>"
      ]
     },
     "metadata": {},
     "output_type": "display_data"
    }
   ],
   "source": [
    "import sys;\n",
    "sys.path.append('/usr/local/lib/python3.6/site-packages')\n",
    "import math;\n",
    "import brdf;\n",
    "import vec3;\n",
    "import random;\n",
    "import matplotlib.pyplot as plt;\n",
    "\n",
    "maxBounce = 3\n",
    "alpha = .99\n",
    "theta_o = math.radians(10);\n",
    "\n",
    "zipinVersion = 'Feng'\n",
    "beckman = brdf.Brdf(alpha, alpha);\n",
    "zipin= brdf.ZipinBrdf(alpha, alpha,  zipinVersion)\n",
    "\n",
    "phi_i = phi_o = 0\n",
    "wo = vec3.Vec3(math.sin(theta_o)* math.cos(phi_o), math.sin(theta_o) * math.sin(phi_o), math.cos(theta_o))\n",
    "xdata= [];              \n",
    "zdata=[]; \n",
    "bdata = [];\n",
    "blindata = []\n",
    "\n",
    "sampleCount = 1000\n",
    "minAngle = -math.pi \n",
    "#minAngle = math.radians(-50)\n",
    "maxAngle = math.pi\n",
    "#maxAngle = math.radians(0)\n",
    "rangeAngle = maxAngle - minAngle\n",
    "minBounce = 5\n",
    "maxBounce = 6\n",
    "for i in range(1,sampleCount):\n",
    "    thetaWi = minAngle + rangeAngle * float(i)/float(sampleCount) \n",
    "    mu = math.cos(thetaWi)\n",
    "    wi = vec3.Vec3(math.sin(thetaWi)* math.cos(phi_i), math.sin(thetaWi) * math.sin(phi_i), mu)\n",
    "    beval = beckman.Eval(wo, wi, 1)\n",
    "    blin_eval = beckman.Eval(wo, wi, 2)\n",
    "    zeval = zipin.Eval(wo, wi, 0, 0, maxBounce, minBounce)\n",
    "    xdata.append(math.degrees(thetaWi))\n",
    "    bdata.append(beval[0])\n",
    "    blindata.append(blin_eval[0])\n",
    "    zdata.append(zeval[0])\n",
    "\n",
    "#plt.plot(xdata, blindata, 'b^', label=\"Beckman with Blin G\");\n",
    "#plt.plot(xdata, bdata, 'g^', label=\"Beckman with Walter G\");\n",
    "plt.plot(xdata, zdata, 'r-', label='Zipin');\n",
    "#plt.legend(loc=1)\n",
    "plt.xlabel('theta_i')\n",
    "plt.ylabel('brdf')\n",
    "titleString = 'alpha = '+ repr(alpha) + ' , theta_o = '+ repr(math.degrees(theta_o))+' , bounce = ' + repr(maxBounce)\n",
    "plt.title(titleString)                                                                             \n",
    "plt.autoscale(True, 'both', False)\n",
    "plt.show()  \n",
    "\n",
    "    \n",
    "\n"
   ]
  },
  {
   "cell_type": "code",
   "execution_count": 1,
   "metadata": {},
   "outputs": [
    {
     "ename": "NameError",
     "evalue": "name 'math' is not defined",
     "output_type": "error",
     "traceback": [
      "\u001b[0;31m---------------------------------------------------------------------------\u001b[0m",
      "\u001b[0;31mNameError\u001b[0m                                 Traceback (most recent call last)",
      "\u001b[0;32m<ipython-input-1-4abb237a8c5a>\u001b[0m in \u001b[0;36m<module>\u001b[0;34m()\u001b[0m\n\u001b[1;32m      1\u001b[0m \u001b[0mminWh\u001b[0m \u001b[0;34m=\u001b[0m \u001b[0;36m0\u001b[0m\u001b[0;34m\u001b[0m\u001b[0m\n\u001b[0;32m----> 2\u001b[0;31m \u001b[0mmaxWh\u001b[0m \u001b[0;34m=\u001b[0m \u001b[0mmath\u001b[0m\u001b[0;34m.\u001b[0m\u001b[0mpi\u001b[0m \u001b[0;34m*\u001b[0m \u001b[0;36m.5\u001b[0m\u001b[0;34m\u001b[0m\u001b[0m\n\u001b[0m\u001b[1;32m      3\u001b[0m \u001b[0mrangeWh\u001b[0m \u001b[0;34m=\u001b[0m \u001b[0mmaxWh\u001b[0m \u001b[0;34m-\u001b[0m \u001b[0mminWh\u001b[0m\u001b[0;34m\u001b[0m\u001b[0m\n\u001b[1;32m      4\u001b[0m \u001b[0mddata\u001b[0m \u001b[0;34m=\u001b[0m \u001b[0;34m[\u001b[0m\u001b[0;34m]\u001b[0m\u001b[0;34m\u001b[0m\u001b[0m\n\u001b[1;32m      5\u001b[0m \u001b[0mxdata\u001b[0m \u001b[0;34m=\u001b[0m \u001b[0;34m[\u001b[0m\u001b[0;34m]\u001b[0m\u001b[0;34m\u001b[0m\u001b[0m\n",
      "\u001b[0;31mNameError\u001b[0m: name 'math' is not defined"
     ]
    }
   ],
   "source": [
    "minWh = 0\n",
    "maxWh = math.pi * .5\n",
    "rangeWh = maxWh - minWh\n",
    "ddata = []\n",
    "xdata = []\n",
    "Found = False\n",
    "for i in range (1, sampleCount):\n",
    "    thetaWh = minWh + rangeWh * float(i)/float(sampleCount)\n",
    "    wh = vec3.Vec3(math.sin(thetaWh) * math.cos(phi_i), math.sin(thetaWh) * math.sin(phi_i), math.cos(thetaWh))\n",
    "    d = beckman.microfacet.D(wh)\n",
    "    if d < 1e-6 and not Found:\n",
    "        theta = 90.0 - math.degrees(thetaWh)\n",
    "        thetaP = theta/180.0\n",
    "        print(theta, thetaP)\n",
    "        Found = True\n",
    "    ddata.append(d)\n",
    "    xdata.append(math.degrees(thetaWh))\n",
    "plt.plot(xdata, ddata, 'b^', label=\"Beckman Distribution\");\n",
    "plt.title('beckman distribution half vector')\n",
    "plt.autoscale(True, 'both', True)\n",
    "plt.show() "
   ]
  },
  {
   "cell_type": "code",
   "execution_count": null,
   "metadata": {},
   "outputs": [],
   "source": []
  },
  {
   "cell_type": "code",
   "execution_count": null,
   "metadata": {},
   "outputs": [],
   "source": []
  }
 ],
 "metadata": {
  "kernelspec": {
   "display_name": "Python 3",
   "language": "python",
   "name": "python3"
  }
 },
 "nbformat": 4,
 "nbformat_minor": 2
}
