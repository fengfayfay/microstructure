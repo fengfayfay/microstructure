{
 "cells": [
  {
   "cell_type": "markdown",
   "metadata": {},
   "source": [
    "THIS TEST IS CURRENTLY BROKEN AFTER ZIPIN API CHANGES, PLEASE DON\"T RUN UNTIL ZIPIN EVAL IS FIXED\n",
    "\n",
    "The first cell contain a simple test to compare ZipinBrdf vs BeckmanBrdf.\n",
    "\n",
    "theta_o is set to 60 degrees, phi_o is 0, u is set at (.5, .5), so phi_i= u2 * 2PI = PI.\n",
    "\n",
    "I created a ZipinBrdf and used its Sample(Wo) method to generate a tuple output:  (brdf_value, pdf, Wi).    Then I invoke ZipinBrdf.eval(Wo, wi).  I compare the return of ZipinBrdf.Eval(Wo, ZipinBrdf.Sample(Wo)) with the (value, pdf) output of Zipin.Sample(Wo).  For the Brdf to be correct, I expect the ZipinBrdf.Eval(Wo, Wi returned by ZipinBrdf.Sample(Wo)) == (value, pdf) returned by ZipinBrdf.Sample(Wo).\n",
    "\n",
    "You can see from the test, the brdf values are matching but not the pdf values.  I need to check why.\n",
    "\n",
    "You can see this test is confirmed by Beckman brdf.\n",
    "\n",
    "Also the brdf value returned by ZipinBrdf is consistently lower than the brdf values computed by Beckman brdf, with values that seem to be within the range of  \"zipin ratio\" * the beckman brdf values.\n"
   ]
  },
  {
   "cell_type": "markdown",
   "metadata": {},
   "source": [
    "The cell below plots the beckman brdf and zipin brdf for:\n",
    "\n",
    "Fixed alpha value:  .1 (you can play with different values to see the different shapes)\n",
    "theta_o: 60 degrees\n",
    "phi_o and phi_i fixed at  : PI and -PI\n",
    "\n",
    "X axis:  cos(theta_I) in  (0, 1) with 1000 samples\n",
    "Y axis: brdf evaluation using (Wo, Wi)\n"
   ]
  },
  {
   "cell_type": "code",
   "execution_count": 8,
   "metadata": {},
   "outputs": [
    {
     "name": "stdout",
     "output_type": "stream",
     "text": [
      "zipinVersion:  Feng\n",
      "1.0471975511965976 1.0471985511965975\n"
     ]
    },
    {
     "data": {
      "image/png": "[encoded data removed]",
      "text/plain": [
       "<matplotlib.figure.Figure at 0x105ded668>"
      ]
     },
     "metadata": {},
     "output_type": "display_data"
    }
   ],
   "source": [
    "import sys;\n",
    "sys.path.append('/usr/local/lib/python3.6/site-packages')\n",
    "import brdf;\n",
    "import vec3;\n",
    "import math;\n",
    "import random;\n",
    "import matplotlib.pyplot as plt;\n",
    "import microfacet;\n",
    "\n",
    "#pat, change this value to see the shape of the plots change\n",
    "alpha = .5\n",
    "\n",
    "#change this to 'Pat\" to use Pat's zipin inplementation\n",
    "zipinVersion = 'Feng'\n",
    "\n",
    "beckman = brdf.Brdf(alpha, alpha);\n",
    "zipin= brdf.ZipinBrdf(alpha, alpha,  zipinVersion);\n",
    "\n",
    "theta_o = math.radians(60)\n",
    "phi_o = 0\n",
    "wo = vec3.Vec3(math.sin(theta_o) * math.cos(phi_o), math.sin(theta_o) * math.sin(phi_o), math.cos(theta_o))\n",
    "xdata= [];              \n",
    "zdata=[]; \n",
    "bdata = [];\n",
    "blin_data = []\n",
    "zsamples = []\n",
    "bsamples = []\n",
    "sampleCount = 1000\n",
    "\n",
    "maxBounce = 6\n",
    "#minBounce = maxBounce - 1\n",
    "minBounce = 1\n",
    "phi_i = 0\n",
    "\n",
    "scale = 2.0 * math.pi/40000.0\n",
    "#scale = 1\n",
    "for i in range(1,sampleCount):\n",
    "    mu = (i/ sampleCount)\n",
    "    \n",
    "    if mu < .0001 or mu > .99:\n",
    "        continue\n",
    "    sinTheta = -math.sqrt(1-mu * mu)\n",
    "    wi = vec3.Vec3(sinTheta * math.cos(phi_i), sinTheta * math.sin(phi_i) , mu)\n",
    "    beval = beckman.Eval(wo, wi,1) \n",
    "    blin_eval = beckman.Eval(wo, wi, 2)\n",
    "    zeval = zipin.Eval(wo, wi, phi_o, phi_i, maxBounce, minBounce)\n",
    "    \n",
    "    bsamples.append(beval) \n",
    "    zsamples.append(zeval)\n",
    "    xdata.append(mu)\n",
    "    bdata.append(beval[0] * scale)\n",
    "    blin_data.append(blin_eval[0] * scale)\n",
    "    zdata.append(zeval[0] * scale)\n",
    "  \n",
    "    \n",
    "plt.plot(xdata, blin_data, color = 'blue');\n",
    "plt.plot(xdata, bdata, color = 'green');\n",
    "plt.plot(xdata, zdata, color = 'red');\n",
    "plt.autoscale(True, 'both', True)\n",
    "plt.show()  \n",
    "\n"
   ]
  },
  {
   "cell_type": "code",
   "execution_count": null,
   "metadata": {},
   "outputs": [],
   "source": []
  },
  {
   "cell_type": "code",
   "execution_count": null,
   "metadata": {},
   "outputs": [],
   "source": []
  },
  {
   "cell_type": "code",
   "execution_count": null,
   "metadata": {},
   "outputs": [],
   "source": []
  },
  {
   "cell_type": "code",
   "execution_count": null,
   "metadata": {},
   "outputs": [],
   "source": []
  }
 ],
 "metadata": {
  "kernelspec": {
   "display_name": "Python 3",
   "language": "python",
   "name": "python3"
  },
  "language_info": {
   "codemirror_mode": {
    "name": "ipython",
    "version": 3
   },
   "file_extension": ".py",
   "mimetype": "text/x-python",
   "name": "python",
   "nbconvert_exporter": "python",
   "pygments_lexer": "ipython3",
   "version": "3.6.2+"
  }
 },
 "nbformat": 4,
 "nbformat_minor": 2
}
