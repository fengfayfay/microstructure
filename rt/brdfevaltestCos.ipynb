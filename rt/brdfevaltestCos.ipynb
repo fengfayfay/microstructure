{
 "cells": [
  {
   "cell_type": "markdown",
   "metadata": {},
   "source": [
    "The first cell contain a simple test to compare ZipinBrdf vs BeckmanBrdf.\n",
    "\n",
    "theta_o is set to 60 degrees, phi_o is 0, u is set at (.5, .5), so phi_i= u2 * 2PI = PI.\n",
    "\n",
    "I created a ZipinBrdf and used its Sample(Wo) method to generate a tuple output:  (brdf_value, pdf, Wi).    Then I invoke ZipinBrdf.eval(Wo, wi).  I compare the return of ZipinBrdf.Eval(Wo, ZipinBrdf.Sample(Wo)) with the (value, pdf) output of Zipin.Sample(Wo).  For the Brdf to be correct, I expect the ZipinBrdf.Eval(Wo, Wi returned by ZipinBrdf.Sample(Wo)) == (value, pdf) returned by ZipinBrdf.Sample(Wo).\n",
    "\n",
    "You can see from the test, the brdf values are matching but not the pdf values.  I need to check why.\n",
    "\n",
    "You can see this test is confirmed by Beckman brdf.\n",
    "\n",
    "Also the brdf value returned by ZipinBrdf is consistently lower than the brdf values computed by Beckman brdf, with values that seem to be within the range of  \"zipin ratio\" * the beckman brdf values.\n"
   ]
  },
  {
   "cell_type": "code",
   "execution_count": 6,
   "metadata": {},
   "outputs": [
    {
     "name": "stdout",
     "output_type": "stream",
     "text": [
      "zipinVersion:  Feng\n",
      "Vec3(0, 0.8660254037844386, 0.5000000000000001) (0.5, 0.5)\n",
      "Vec3(-0.5292191366892408, 6.481065217940044e-17, 0.8484851827591892)\n",
      "(0.7148377010499289, 1.2470275826044765) (0.714837701049929, 0.714837701049929, <vec3.Vec3 object at 0x10ea56518>, <vec3.Vec3 object at 0x10ea564e0>)\n",
      "Vec3(-0.23510007732975968, -0.8660254037844386, 0.4412799039606734)\n",
      "(0.9979529196086191, 0.9979529196086191) (0.9979529196086167, 0.9979529196086167, <vec3.Vec3 object at 0x10eafb470>)\n"
     ]
    }
   ],
   "source": [
    "import brdf;\n",
    "import vec3;\n",
    "import math;\n",
    "import random;\n",
    "import matplotlib.pyplot as plt;\n",
    "import microfacet;\n",
    "alpha = .3\n",
    "zipinVersion = 'Feng'\n",
    "zipin= brdf.ZipinBrdf(alpha, alpha, zipinVersion);\n",
    "theta_o = math.pi /3;\n",
    "wo = vec3.Vec3(0, math.sin(theta_o), math.cos(theta_o));\n",
    "u = (.5, .5)\n",
    "print(wo, u)\n",
    "\n",
    "maxBounce = 1\n",
    "zsample =zipin.Sample(wo, u);\n",
    "if zsample[0]>0:\n",
    "    zeval = zipin.Eval(wo, zsample[2], maxBounce);\n",
    "    print(zsample[2])\n",
    "    print(zeval, zsample);\n",
    "\n",
    "beckman = brdf.Brdf(alpha, alpha);\n",
    "bsample = beckman.Sample(wo, u);\n",
    "if bsample[0]>0:\n",
    "    beval = beckman.Eval(wo, bsample[2]);\n",
    "    print(bsample[2]);\n",
    "    print(beval, bsample);"
   ]
  },
  {
   "cell_type": "markdown",
   "metadata": {},
   "source": [
    "The cell below plots the beckman brdf and zipin brdf for:\n",
    "\n",
    "Fixed alpha value:  .1 (you can play with different values to see the different shapes)\n",
    "theta_o: 60 degrees\n",
    "phi_o and phi_i fixed at  : PI and -PI\n",
    "\n",
    "X axis:  cos(theta_I) in  (0, 1) with 1000 samples\n",
    "Y axis: brdf evaluation using (Wo, Wi)\n"
   ]
  },
  {
   "cell_type": "code",
   "execution_count": 11,
   "metadata": {},
   "outputs": [
    {
     "name": "stdout",
     "output_type": "stream",
     "text": [
      "zipinVersion:  Feng\n"
     ]
    },
    {
     "data": {
      "image/png": "[encoded data removed]",
      "text/plain": [
       "<matplotlib.figure.Figure at 0x10ecb2b38>"
      ]
     },
     "metadata": {},
     "output_type": "display_data"
    }
   ],
   "source": [
    "import brdf;\n",
    "import vec3;\n",
    "import math;\n",
    "import random;\n",
    "import matplotlib.pyplot as plt;\n",
    "import microfacet;\n",
    "\n",
    "#pat, change this value to see the shape of the plots change\n",
    "alpha = .2\n",
    "\n",
    "#change this to 'Pat\" to use Pat's zipin inplementation\n",
    "zipinVersion = 'Feng'\n",
    "\n",
    "beckman = brdf.Brdf(alpha, alpha);\n",
    "zipin= brdf.ZipinBrdf(alpha, alpha,  zipinVersion);\n",
    "\n",
    "theta_o = math.pi /3;\n",
    "phi_o = 0\n",
    "wo = vec3.Vec3(0, math.sin(theta_o) * math.cos(phi_o), math.cos(theta_o))\n",
    "xdata= [];              \n",
    "zdata=[]; \n",
    "bdata = [];\n",
    "zsamples = []\n",
    "bsamples = []\n",
    "sampleCount = 1000\n",
    "\n",
    "maxBounce = 1\n",
    "phi_i = math.pi\n",
    "for i in range(sampleCount):\n",
    "   #thetaWi = minAngle + rangeAngle * float(i)/float(sampleCount) \n",
    "    mu = ((float)(1+i))/(sampleCount)\n",
    "   \n",
    "    fmu = math.fabs(mu)\n",
    "    if fmu < .001 or fmu > .99:\n",
    "        continue\n",
    "    \n",
    "    sinTheta = math.sqrt(1.0 - mu * mu) * math.cos(phi_i)\n",
    "    wi = vec3.Vec3(0, sinTheta, mu)\n",
    "    beval = beckman.Eval(wo, wi, False)\n",
    "    wi = vec3.Vec3(0, sinTheta, mu)\n",
    "    zeval = zipin.Eval(wo, wi, maxBounce)\n",
    "    \n",
    "    bsamples.append(beval) \n",
    "    zsamples.append(zeval)\n",
    "    xdata.append(mu)\n",
    "    bdata.append(beval[0])\n",
    "    zdata.append(zeval[0])\n",
    "  \n",
    "    \n",
    "plt.plot(xdata, bdata, color = 'green');\n",
    "plt.plot(xdata, zdata, color = 'red');\n",
    "plt.autoscale(True, 'both', True)\n",
    "plt.show()  \n",
    "\n"
   ]
  },
  {
   "cell_type": "code",
   "execution_count": null,
   "metadata": {},
   "outputs": [],
   "source": []
  }
 ],
 "metadata": {
  "kernelspec": {
   "display_name": "Python 3",
   "language": "python",
   "name": "python3"
  },
  "language_info": {
   "codemirror_mode": {
    "name": "ipython",
    "version": 3
   },
   "file_extension": ".py",
   "mimetype": "text/x-python",
   "name": "python",
   "nbconvert_exporter": "python",
   "pygments_lexer": "ipython3",
   "version": "3.6.3"
  }
 },
 "nbformat": 4,
 "nbformat_minor": 2
}
