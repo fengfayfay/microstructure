{
 "cells": [
  {
   "cell_type": "markdown",
   "metadata": {},
   "source": [
    "This test validates that zipin eval and zipin sample should be consistent."
   ]
  },
  {
   "cell_type": "code",
   "execution_count": 69,
   "metadata": {},
   "outputs": [
    {
     "name": "stdout",
     "output_type": "stream",
     "text": [
      "zipinVersion:  Feng\n"
     ]
    },
    {
     "data": {
      "image/png": "[encoded data removed]",
      "text/plain": [
       "<matplotlib.figure.Figure at 0x10a421400>"
      ]
     },
     "metadata": {},
     "output_type": "display_data"
    }
   ],
   "source": [
    "import sys;\n",
    "sys.path.append('/usr/local/lib/python3.6/site-packages')\n",
    "import brdf;\n",
    "import vec3;\n",
    "import math;\n",
    "import random;\n",
    "import matplotlib.pyplot as plt;\n",
    "import microfacet;\n",
    "\n",
    "#critical value of alpha when the beckman starts to have double peak\n",
    "alpha = .1\n",
    "\n",
    "zipinVersion = 'Feng'\n",
    "beckman = brdf.Brdf(alpha, alpha);\n",
    "zipin= brdf.ZipinBrdf(alpha, alpha,  zipinVersion);\n",
    "theta_o = math.pi /3;\n",
    "\n",
    "phi_i = phi_o = 0\n",
    "wo = vec3.Vec3(math.sin(theta_o)* math.cos(phi_o), math.sin(theta_o) * math.sin(phi_o), math.cos(theta_o))\n",
    "xdata= [];              \n",
    "zdata=[]; \n",
    "bdata = [];\n",
    "blindata = []\n",
    "zsamples = []\n",
    "bsamples = []\n",
    "sampleCount = 1000\n",
    "minAngle = -math.pi  \n",
    "maxAngle = math.pi\n",
    "\n",
    "rangeAngle = maxAngle - minAngle\n",
    "maxBounce = 1\n",
    "for i in range(1,sampleCount):\n",
    "    thetaWi = minAngle + rangeAngle * float(i)/float(sampleCount) \n",
    "    mu = math.cos(thetaWi)\n",
    "    wi = vec3.Vec3(math.sin(thetaWi)* math.cos(phi_i), math.sin(thetaWi) * math.sin(phi_i), mu)\n",
    "    beval = beckman.Eval(wo, wi, 1)\n",
    "    blin_eval = beckman.Eval(wo, wi, 2)\n",
    "    zeval = zipin.Eval(wo, wi, 0, 0, maxBounce)\n",
    "    bsamples.append(beval) \n",
    "    zsamples.append(zeval)\n",
    "    xdata.append(math.degrees(thetaWi))\n",
    "    bdata.append(beval[0])\n",
    "    blindata.append(blin_eval[0])\n",
    "    zdata.append(zeval[0])\n",
    "\n",
    "#plt.plot(xdata, bdata, color = 'green');\n",
    "plt.plot(xdata, blindata, 'b^', label=\"Beckman with Blin G\");\n",
    "plt.plot(xdata, zdata, 'r-', label='Zipin Single Bounce');\n",
    "plt.legend(loc=1)\n",
    "plt.xlabel('theta_i')\n",
    "plt.ylabel('brdf')\n",
    "titleString = 'phi = ' + repr(phi_o) + ', alpha = '+ repr(alpha) + ' , theta_o = '+ repr(math.degrees(theta_o))\n",
    "plt.title(titleString)\n",
    "#plt.title('phi={}'.format(phi_o) )                                                                                  \n",
    "plt.autoscale(True, 'both', True)\n",
    "plt.show()  \n",
    "\n"
   ]
  },
  {
   "cell_type": "markdown",
   "metadata": {},
   "source": [
    "This is just a quick test for me to debug problem values of zipin evaluation"
   ]
  },
  {
   "cell_type": "code",
   "execution_count": 2,
   "metadata": {},
   "outputs": [
    {
     "name": "stdout",
     "output_type": "stream",
     "text": [
      "zipinVersion:  Feng\n",
      "Vec3(0.8660254037844386, 0.0, 0.5000000000000001)\n",
      "Vec3(0.0, 0.0, 1.0)\n",
      "Vec3(0.49999999999999994, 0, 0.8660254037844387) 1 left\n",
      "0.29833093344707545 0.14916546672353775\n",
      "[(-0.0, 0.9999999999999997, 1, 'left', 0.9999999999999999)]\n",
      "Vec3(-0.5000000000000001, 0, 0.8660254037844386) 2 right\n",
      "0.2983309334470751 0\n",
      "[(-2.5444437451708134e-14, 0.9999999999999999, 1, 'left', 0.9999999999999999)]\n",
      "Vec3(0.8660254037844386, 0, 0.5) 2 left\n",
      "6.258443311606216e-05 1.5646108279015544e-05\n",
      "[(-60.00000000000001, 1.0, 1, 'left', 0.5000000000000001)]\n",
      "Vec3(0.5, 0.0, 0.8660254037844388)\n",
      "(0.2983309334470754, 0.14916546672353773)\n",
      "(0.29519596743509263, 0.14916546672353787)\n"
     ]
    }
   ],
   "source": [
    "import sys;\n",
    "sys.path.append('/usr/local/lib/python3.6/site-packages')\n",
    "import brdf;\n",
    "import vec3;\n",
    "import math;\n",
    "import random;\n",
    "import matplotlib.pyplot as plt;\n",
    "import microfacet;\n",
    "\n",
    "#critical value of alpha when the beckman starts to have double peak\n",
    "alpha = .99\n",
    "\n",
    "zipinVersion = 'Feng'\n",
    "beckman = brdf.Brdf(alpha, alpha);\n",
    "zipin= brdf.ZipinBrdf(alpha, alpha,  zipinVersion);\n",
    "maxBounce = 3\n",
    "theta_o = math.pi /3;\n",
    "\n",
    "phi_i = phi_o = 0\n",
    "wo = vec3.Vec3(math.sin(theta_o)* math.cos(phi_o), math.sin(theta_o) * math.sin(phi_o), math.cos(theta_o))\n",
    "print(wo)\n",
    "theta_i = math.radians(0)\n",
    "wi = vec3.Vec3(math.sin(theta_i)* math.cos(phi_o), math.sin(theta_i) * math.sin(phi_o), math.cos(theta_i))\n",
    "print (wi)\n",
    "zeval = zipin.Eval(wo, wi, phi_o, phi_i, maxBounce)\n",
    "beval = beckman.Eval(wo, wi)\n",
    "wm = (wo + wi).norm()\n",
    "print(wm);\n",
    "\n",
    "\n",
    "print (zeval)\n",
    "print (beval)"
   ]
  },
  {
   "cell_type": "code",
   "execution_count": 1,
   "metadata": {},
   "outputs": [
    {
     "name": "stdout",
     "output_type": "stream",
     "text": [
      "5 5\n",
      "-1.7453292513458507e-06 -1.7453292513458507e-06\n",
      "0.3420201215989058 0.34202030733296535 0.6840406146659307\n",
      "[(-9.99999999628449e-05, 2.7152490004117356e-07, 5, 'right', 1.0), (-39.999939999999995, 0.4679128834370925, 3, 'left', 0.46791301048712597), (-7.999999998554258e-05, 0.5320868450380075, 4, 'left', 0.532086989512874)]\n"
     ]
    }
   ],
   "source": [
    "import zipinPaper as zipin\n",
    "z = zipin.zipin(20.000009999999996, 20.0)\n",
    "print(z)\n"
   ]
  },
  {
   "cell_type": "code",
   "execution_count": 3,
   "metadata": {},
   "outputs": [
    {
     "name": "stdout",
     "output_type": "stream",
     "text": [
      "zipinVersion:  Feng\n",
      "(2.764984987566873e-05, 1.2536614897362137e-05)\n"
     ]
    }
   ],
   "source": [
    "import sys;\n",
    "sys.path.append('/usr/local/lib/python3.6/site-packages')\n",
    "import brdf;\n",
    "import vec3;\n",
    "import math;\n",
    "import random;\n",
    "import matplotlib.pyplot as plt;\n",
    "import microfacet;\n",
    "alpha = .99\n",
    "\n",
    "zipinVersion = 'Feng'\n",
    "beckman = brdf.Brdf(alpha, alpha);\n",
    "zipin= brdf.ZipinBrdf(alpha, alpha,  zipinVersion);\n",
    "maxBounce = 6\n",
    "minBounce = 5\n",
    "phi = 0\n",
    "\n",
    "theta_i = math.radians(-8)\n",
    "theta_o = math.radians(20)\n",
    "wo = vec3.Vec3(math.sin(theta_o), 0, math.cos(theta_o))\n",
    "wi = vec3.Vec3(math.sin(theta_i), 0, math.cos(theta_i))\n",
    "#wo = vec3.Vec3(0.49999999999999994, 0.0, 0.8660254037844387);\n",
    "#wi = vec3.Vec3(0.7664930068093501, 0.0, 0.6422526531765841);\n",
    "zeval = zipin.Eval(wo, wi, 0, 0, maxBounce, minBounce);\n",
    "print (zeval)"
   ]
  },
  {
   "cell_type": "code",
   "execution_count": null,
   "metadata": {},
   "outputs": [],
   "source": []
  },
  {
   "cell_type": "code",
   "execution_count": null,
   "metadata": {},
   "outputs": [],
   "source": []
  },
  {
   "cell_type": "code",
   "execution_count": null,
   "metadata": {},
   "outputs": [],
   "source": []
  }
 ],
 "metadata": {
  "kernelspec": {
   "display_name": "Python 3",
   "language": "python",
   "name": "python3"
  },
  "language_info": {
   "codemirror_mode": {
    "name": "ipython",
    "version": 3
   },
   "file_extension": ".py",
   "mimetype": "text/x-python",
   "name": "python",
   "nbconvert_exporter": "python",
   "pygments_lexer": "ipython3",
   "version": "3.6.2+"
  }
 },
 "nbformat": 4,
 "nbformat_minor": 2
}
