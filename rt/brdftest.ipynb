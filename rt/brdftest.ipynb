{
 "cells": [
  {
   "cell_type": "raw",
   "metadata": {},
   "source": [
    "import brdf;\n",
    "import vec3;\n",
    "import math;\n",
    "import random;\n",
    "import matplotlib.pyplot as plt;\n",
    "import microfacet;\n",
    "zipin= brdf.ZipinBrdf(.3, .3);\n",
    "wo = vec3.Vec3(random.uniform(0,1), random.uniform(0, 1), random.uniform(0, 1));\n",
    "u = (random.uniform(0,1), random.uniform(0, 1));\n",
    "print(wo, u)\n",
    "zsample =zipin.Sample(wo, u);\n",
    "zeval = zipin.Eval(wo, zsample[2]);\n",
    "print(zsample[2])\n",
    "print(zeval, zsample);\n",
    "\n",
    "beckman = brdf.Brdf(.3, .3);\n",
    "bsample = beckman.Sample(wo, u);\n",
    "beval = beckman.Eval(wo, bsample[2]);\n",
    "print(bsample[2]);\n",
    "print(beval, bsample);\n",
    "\n",
    "\n",
    "theta_o = math.pi /3.0;\n",
    "phi_o = math.pi * 2.0 * random.uniform(0,1);\n",
    "wo = vec3.Vec3(math.sin(theta_o) * math.sin(phi_o), math.sin(theta_o)* math.cos(phi_o), math.cos(theta_o));\n",
    "xdata= [];              \n",
    "zdata=[];   \n",
    "bdata = [];\n",
    "for i in range(300):\n",
    "    u = (random.uniform(0, 1), random.uniform(0, 1));\n",
    "    zsample.append( zipin.Sample(wo,u));\n",
    "    bsample.append(beckman.Sample(wo,u));\n",
    "sorted(zsample, key=lambda x:x[2].z)\n",
    "sorted(bsample, key=lambda x:x[2].z)\n",
    "for s in zsample:\n",
    "    xdata.append(s[2].z)\n",
    "    zdata.append(s[0])\n",
    "\n",
    "fig, ax = plt.subplots()\n",
    "ax.plot(xdata, zdata, 'o');\n",
    "plt.autoscale(True, 'both', True)\n",
    "plt.show()\n",
    "\n",
    "\n"
   ]
  },
  {
   "cell_type": "code",
   "execution_count": null,
   "metadata": {},
   "outputs": [],
   "source": [
    "\n"
   ]
  },
  {
   "cell_type": "code",
   "execution_count": 2,
   "metadata": {},
   "outputs": [
    {
     "name": "stdout",
     "output_type": "stream",
     "text": [
      "Vec3(0.07303567139098288, 0.007245207355540684, 0.7301552715347561) (0.9392794269257223, 0.8557510052662906)\n",
      "Vec3(0.5701424583223513, -0.7279047649578723, 0.3809097404501107)\n",
      "(0.007051542915263107, -0.05114003918394749) (0.0068126616706424385, 0.0025266662037115853, <vec3.Vec3 object at 0x1081bc3c8>, <vec3.Vec3 object at 0x1081bc390>)\n",
      "Vec3(0.40586306736416905, -0.6551068080710325, 0.6372677934500778)\n",
      "(0.0074838170147840805, 0.004643592508846285) (0.0074838170147840865, 0.004643592508846287, <vec3.Vec3 object at 0x1081bc438>)\n"
     ]
    },
    {
     "data": {
      "image/png": "[encoded data removed]",
      "text/plain": [
       "<matplotlib.figure.Figure at 0x10990b6a0>"
      ]
     },
     "metadata": {},
     "output_type": "display_data"
    }
   ],
   "source": [
    "import brdf;\n",
    "import vec3;\n",
    "import math;\n",
    "import random;\n",
    "import matplotlib.pyplot as plt;\n",
    "import microfacet;\n",
    "zipin= brdf.ZipinBrdf(.3, .3);\n",
    "wo = vec3.Vec3(random.uniform(0,1), random.uniform(0, 1), random.uniform(0, 1));\n",
    "u = (random.uniform(0,1), random.uniform(0, 1));\n",
    "print(wo, u)\n",
    "zsample =zipin.Sample(wo, u);\n",
    "if zsample[0]>0:\n",
    "    zeval = zipin.Eval(wo, zsample[2]);\n",
    "    print(zsample[2])\n",
    "    print(zeval, zsample);\n",
    "\n",
    "beckman = brdf.Brdf(.3, .3);\n",
    "bsample = beckman.Sample(wo, u);\n",
    "if bsample[0]>0:\n",
    "    beval = beckman.Eval(wo, bsample[2]);\n",
    "    print(bsample[2]);\n",
    "    print(beval, bsample);\n",
    "\n",
    "\n",
    "theta_o = math.pi /6.0;\n",
    "phi_o = math.pi * 2.0 * random.uniform(0,1);\n",
    "wo = vec3.Vec3(math.sin(theta_o) * math.sin(phi_o), math.sin(theta_o)* math.cos(phi_o), math.cos(theta_o));\n",
    "xdata= [];              \n",
    "zdata=[]; \n",
    "bdata = [];\n",
    "zsamples = []\n",
    "bsamples = []\n",
    "for i in range(300):\n",
    "    u = (random.uniform(0, 1), random.uniform(0, 1))\n",
    "    zsample = zipin.Sample(wo, u);\n",
    "    bsample = beckman.Sample(wo, u)\n",
    "    if zsample[0] > 0:\n",
    "        zsamples.append(zsample);\n",
    "    if bsample[0] > 0:\n",
    "        bsamples.append(bsample)\n",
    "zsamples.sort(key=lambda x:x[2].z);\n",
    "bsamples.sort(key=lambda x:x[2].z);\n",
    "\n",
    "for s in bsamples:\n",
    "    xdata.append(s[2].z);\n",
    "    zdata.append(s[0]);\n",
    "    \n",
    "\n",
    "fig, ax = plt.subplots();\n",
    "#ax.plot(xdata, zdata)\n",
    "ax.plot(xdata, zdata, 'o');\n",
    "plt.autoscale(True, 'both', True)\n",
    "plt.show()   \n"
   ]
  },
  {
   "cell_type": "code",
   "execution_count": null,
   "metadata": {},
   "outputs": [],
   "source": [
    "\n",
    "\n"
   ]
  },
  {
   "cell_type": "code",
   "execution_count": null,
   "metadata": {},
   "outputs": [],
   "source": []
  },
  {
   "cell_type": "code",
   "execution_count": null,
   "metadata": {},
   "outputs": [],
   "source": []
  },
  {
   "cell_type": "code",
   "execution_count": 11,
   "metadata": {},
   "outputs": [
    {
     "name": "stdout",
     "output_type": "stream",
     "text": [
      "0.860238485217282\n"
     ]
    }
   ],
   "source": []
  },
  {
   "cell_type": "code",
   "execution_count": null,
   "metadata": {},
   "outputs": [],
   "source": []
  },
  {
   "cell_type": "code",
   "execution_count": 12,
   "metadata": {},
   "outputs": [
    {
     "name": "stdout",
     "output_type": "stream",
     "text": [
      "1.4448341712182988 -0.46579906503072\n"
     ]
    }
   ],
   "source": []
  },
  {
   "cell_type": "code",
   "execution_count": 13,
   "metadata": {},
   "outputs": [
    {
     "name": "stdout",
     "output_type": "stream",
     "text": [
      "0.8668083907638165\n"
     ]
    }
   ],
   "source": []
  },
  {
   "cell_type": "code",
   "execution_count": null,
   "metadata": {},
   "outputs": [],
   "source": []
  },
  {
   "cell_type": "code",
   "execution_count": 14,
   "metadata": {},
   "outputs": [
    {
     "name": "stdout",
     "output_type": "stream",
     "text": [
      "0.2447587765468946 0.24475877654689454\n"
     ]
    }
   ],
   "source": [
    "\n"
   ]
  },
  {
   "cell_type": "code",
   "execution_count": null,
   "metadata": {},
   "outputs": [],
   "source": []
  },
  {
   "cell_type": "code",
   "execution_count": null,
   "metadata": {},
   "outputs": [],
   "source": []
  },
  {
   "cell_type": "code",
   "execution_count": null,
   "metadata": {},
   "outputs": [],
   "source": []
  }
 ],
 "metadata": {
  "kernelspec": {
   "display_name": "Python 3",
   "language": "python",
   "name": "python3"
  },
  "language_info": {
   "codemirror_mode": {
    "name": "ipython",
    "version": 3
   },
   "file_extension": ".py",
   "mimetype": "text/x-python",
   "name": "python",
   "nbconvert_exporter": "python",
   "pygments_lexer": "ipython3",
   "version": "3.6.3"
  }
 },
 "nbformat": 4,
 "nbformat_minor": 2
}
