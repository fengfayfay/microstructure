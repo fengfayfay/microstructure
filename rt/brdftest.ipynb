{
 "cells": [
  {
   "cell_type": "markdown",
   "metadata": {
    "collapsed": true
   },
   "source": [
    "BRDF integration to close to 1 test:\n",
    "I have fixed the brdf integration test to encompass the correct theta range and phi range for our setup, and the beckmann brdf integrates close to 1 for small alpha but starts to become less with increasing alpha.\n",
    "At alpha = 9, it is .618 for example."
   ]
  },
  {
   "cell_type": "code",
   "execution_count": 1,
   "metadata": {},
   "outputs": [
    {
     "name": "stdout",
     "output_type": "stream",
     "text": [
      "0.6183127401773225 0.6767029638163478\n"
     ]
    }
   ],
   "source": [
    "import brdf\n",
    "import math\n",
    "import vec3\n",
    "\n",
    "alpha = .9\n",
    "theBrdf = brdf.Brdf(alpha, alpha);\n",
    "\n",
    "#select theta_o and phi_o\n",
    "theta_o = math.pi /6;\n",
    "phi_o = 0\n",
    "wo = vec3.Vec3(0, math.sin(theta_o) * math.cos(phi_o), math.cos(theta_o))\n",
    "\n",
    "pdf_total = 0\n",
    "brdf_total = 0\n",
    "\n",
    "for j in range (0,  360):\n",
    "    phi_i = math.radians(j)\n",
    "    d_phi = math.radians(j+1) - phi_i\n",
    "    cos_phi_i = math.cos(phi_i)\n",
    "    sin_phi_i = math.sin(phi_i)\n",
    "    brdf_sum = 0\n",
    "    pdf_sum = 0\n",
    "    for i in range(0, 90):\n",
    "        cos_theta_i = math.cos(math.radians(i))\n",
    "        sin_theta_i = math.sin(math.radians(i))\n",
    "        d_theta = math.radians(i+1) - math.radians(i)\n",
    "        mu = cos_theta_i \n",
    "        wi = vec3.Vec3(sin_theta_i * sin_phi_i, sin_theta_i * cos_phi_i, mu)\n",
    "        (value, pdf) = theBrdf.Eval(wo, wi, 1) \n",
    "        brdf_sum += value * sin_theta_i *  d_theta\n",
    "        pdf_sum += pdf * sin_theta_i * d_theta\n",
    "    brdf_total += brdf_sum * d_phi\n",
    "    pdf_total += pdf_sum * d_phi\n",
    "print(brdf_total, pdf_total)"
   ]
  },
  {
   "cell_type": "code",
   "execution_count": null,
   "metadata": {},
   "outputs": [],
   "source": []
  }
 ],
 "metadata": {
  "kernelspec": {
   "display_name": "Python 3",
   "language": "python",
   "name": "python3"
  },
  "language_info": {
   "codemirror_mode": {
    "name": "ipython",
    "version": 3
   },
   "file_extension": ".py",
   "mimetype": "text/x-python",
   "name": "python",
   "nbconvert_exporter": "python",
   "pygments_lexer": "ipython3",
   "version": "3.6.2+"
  }
 },
 "nbformat": 4,
 "nbformat_minor": 2
}
