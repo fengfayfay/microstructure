{
 "cells": [
  {
   "cell_type": "raw",
   "metadata": {},
   "source": [
    "import brdf;\n",
    "import vec3;\n",
    "import math;\n",
    "import random;\n",
    "import matplotlib.pyplot as plt;\n",
    "import microfacet;\n",
    "zipin= brdf.ZipinBrdf(.3, .3);\n",
    "wo = vec3.Vec3(random.uniform(0,1), random.uniform(0, 1), random.uniform(0, 1));\n",
    "u = (random.uniform(0,1), random.uniform(0, 1));\n",
    "print(wo, u)\n",
    "zsample =zipin.Sample(wo, u);\n",
    "zeval = zipin.Eval(wo, zsample[2]);\n",
    "print(zsample[2])\n",
    "print(zeval, zsample);\n",
    "\n",
    "beckman = brdf.Brdf(.3, .3);\n",
    "bsample = beckman.Sample(wo, u);\n",
    "beval = beckman.Eval(wo, bsample[2]);\n",
    "print(bsample[2]);\n",
    "print(beval, bsample);\n",
    "\n",
    "\n",
    "theta_o = math.pi /3.0;\n",
    "phi_o = math.pi * 2.0 * random.uniform(0,1);\n",
    "wo = vec3.Vec3(math.sin(theta_o) * math.sin(phi_o), math.sin(theta_o)* math.cos(phi_o), math.cos(theta_o));\n",
    "xdata= [];              \n",
    "zdata=[];   \n",
    "bdata = [];\n",
    "for i in range(300):\n",
    "    u = (random.uniform(0, 1), random.uniform(0, 1));\n",
    "    zsample = zipin.Sample(wo,u);\n",
    "    bsample = beckman.Sample(wo,u);\n",
    "    xdata.append(zsample[2].z);\n",
    "    zdata.append(zsample[0]);\n",
    "    bdata.append(bsample[0]);\n",
    "fig, ax = plt.subplots()\n",
    "ax.plot(xdata, bdata, 'o');\n",
    "plt.autoscale(True, both, True)\n",
    "plt.show()\n",
    "\n",
    "\n"
   ]
  },
  {
   "cell_type": "code",
   "execution_count": 2,
   "metadata": {},
   "outputs": [
    {
     "name": "stdout",
     "output_type": "stream",
     "text": [
      "Vec3(0.1313575514854739, 0.8815878745488047, 0.8682267806737937) (0.7815589713645131, 0.3575575951418878)\n",
      "Vec3(-0.6242648434386083, 0.778632278571494, 0.06344430638861992)\n",
      "(0.11911404381870176, 0.012188660595189669) (0.1191140438187017, 0.006006702093112972, <vec3.Vec3 object at 0x107ed0e80>, <vec3.Vec3 object at 0x107ed0e48>)\n",
      "Vec3(-0.4630031523401416, -0.26268254124638657, 0.8465376326232827)\n",
      "(0.028790408293940126, 0.019372004620914093) (0.028790408293940126, 0.019372004620914093, <vec3.Vec3 object at 0x107ed0f28>)\n"
     ]
    },
    {
     "data": {
      "image/png": "[encoded data removed]",
      "text/plain": [
       "<matplotlib.figure.Figure at 0x107c64e48>"
      ]
     },
     "metadata": {},
     "output_type": "display_data"
    }
   ],
   "source": [
    "import brdf;\n",
    "import vec3;\n",
    "import math;\n",
    "import random;\n",
    "import matplotlib.pyplot as plt;\n",
    "import microfacet;\n",
    "zipin= brdf.ZipinBrdf(.3, .3);\n",
    "wo = vec3.Vec3(random.uniform(0,1), random.uniform(0, 1), random.uniform(0, 1));\n",
    "u = (random.uniform(0,1), random.uniform(0, 1));\n",
    "print(wo, u)\n",
    "zsample =zipin.Sample(wo, u);\n",
    "zeval = zipin.Eval(wo, zsample[2]);\n",
    "print(zsample[2])\n",
    "print(zeval, zsample);\n",
    "\n",
    "beckman = brdf.Brdf(.3, .3);\n",
    "bsample = beckman.Sample(wo, u);\n",
    "beval = beckman.Eval(wo, bsample[2]);\n",
    "print(bsample[2]);\n",
    "print(beval, bsample);\n",
    "\n",
    "\n",
    "theta_o = math.pi /9.0;\n",
    "phi_o = math.pi * 2.0 * random.uniform(0,1);\n",
    "wo = vec3.Vec3(math.sin(theta_o) * math.sin(phi_o), math.sin(theta_o)* math.cos(phi_o), math.cos(theta_o));\n",
    "xdata= [];              \n",
    "zdata=[];   \n",
    "bdata = [];\n",
    "for i in range(1000):\n",
    "    u = (random.uniform(0, 1), random.uniform(0, 1));\n",
    "    zsample = zipin.Sample(wo,u);\n",
    "    bsample = beckman.Sample(wo,u);\n",
    "    xdata.append(zsample[2].z);\n",
    "    zdata.append(zsample[0]);\n",
    "    bdata.append(bsample[0]);\n",
    "fig, ax = plt.subplots()\n",
    "ax.plot(xdata, zdata, 'o');\n",
    "plt.autoscale(True, 'both', True)\n",
    "plt.show()\n"
   ]
  },
  {
   "cell_type": "code",
   "execution_count": null,
   "metadata": {},
   "outputs": [],
   "source": [
    "\n"
   ]
  },
  {
   "cell_type": "code",
   "execution_count": 1,
   "metadata": {},
   "outputs": [
    {
     "ename": "NameError",
     "evalue": "name 'math' is not defined",
     "output_type": "error",
     "traceback": [
      "\u001b[0;31m---------------------------------------------------------------------------\u001b[0m",
      "\u001b[0;31mNameError\u001b[0m                                 Traceback (most recent call last)",
      "\u001b[0;32m<ipython-input-1-e73a422ea819>\u001b[0m in \u001b[0;36m<module>\u001b[0;34m()\u001b[0m\n\u001b[1;32m      1\u001b[0m \u001b[0;32mimport\u001b[0m \u001b[0mmatplotlib\u001b[0m \u001b[0;32mas\u001b[0m \u001b[0mplt\u001b[0m\u001b[0;34m;\u001b[0m\u001b[0;34m\u001b[0m\u001b[0m\n\u001b[1;32m      2\u001b[0m \u001b[0;32mimport\u001b[0m \u001b[0mmicrofacet\u001b[0m\u001b[0;34m;\u001b[0m\u001b[0;34m\u001b[0m\u001b[0m\n\u001b[0;32m----> 3\u001b[0;31m \u001b[0mtheta_o\u001b[0m \u001b[0;34m=\u001b[0m \u001b[0mmath\u001b[0m\u001b[0;34m.\u001b[0m\u001b[0mpi\u001b[0m \u001b[0;34m/\u001b[0m\u001b[0;36m3.0\u001b[0m\u001b[0;34m;\u001b[0m\u001b[0;34m\u001b[0m\u001b[0m\n\u001b[0m\u001b[1;32m      4\u001b[0m \u001b[0mphi_o\u001b[0m \u001b[0;34m=\u001b[0m \u001b[0mmath\u001b[0m\u001b[0;34m.\u001b[0m\u001b[0mpi\u001b[0m \u001b[0;34m*\u001b[0m \u001b[0;36m2.0\u001b[0m \u001b[0;34m*\u001b[0m \u001b[0mrandom\u001b[0m\u001b[0;34m.\u001b[0m\u001b[0muniform\u001b[0m\u001b[0;34m(\u001b[0m\u001b[0;36m0\u001b[0m\u001b[0;34m,\u001b[0m\u001b[0;36m1\u001b[0m\u001b[0;34m)\u001b[0m\u001b[0;34m;\u001b[0m\u001b[0;34m\u001b[0m\u001b[0m\n\u001b[1;32m      5\u001b[0m \u001b[0mwo\u001b[0m \u001b[0;34m=\u001b[0m \u001b[0mvec3\u001b[0m\u001b[0;34m.\u001b[0m\u001b[0mVec3\u001b[0m\u001b[0;34m(\u001b[0m\u001b[0mmath\u001b[0m\u001b[0;34m.\u001b[0m\u001b[0msin\u001b[0m\u001b[0;34m(\u001b[0m\u001b[0mtheta_o\u001b[0m\u001b[0;34m)\u001b[0m \u001b[0;34m*\u001b[0m \u001b[0mmath\u001b[0m\u001b[0;34m.\u001b[0m\u001b[0msin\u001b[0m\u001b[0;34m(\u001b[0m\u001b[0mphi_o\u001b[0m\u001b[0;34m)\u001b[0m\u001b[0;34m,\u001b[0m \u001b[0mmath\u001b[0m\u001b[0;34m.\u001b[0m\u001b[0msin\u001b[0m\u001b[0;34m(\u001b[0m\u001b[0mtheta_o\u001b[0m\u001b[0;34m)\u001b[0m\u001b[0;34m*\u001b[0m \u001b[0mmath\u001b[0m\u001b[0;34m.\u001b[0m\u001b[0mcos\u001b[0m\u001b[0;34m(\u001b[0m\u001b[0mphi_o\u001b[0m\u001b[0;34m)\u001b[0m\u001b[0;34m,\u001b[0m \u001b[0mmath\u001b[0m\u001b[0;34m.\u001b[0m\u001b[0mcos\u001b[0m\u001b[0;34m(\u001b[0m\u001b[0mtheta_o\u001b[0m\u001b[0;34m)\u001b[0m\u001b[0;34m)\u001b[0m\u001b[0;34m;\u001b[0m\u001b[0;34m\u001b[0m\u001b[0m\n",
      "\u001b[0;31mNameError\u001b[0m: name 'math' is not defined"
     ]
    }
   ],
   "source": [
    "\n",
    "\n"
   ]
  },
  {
   "cell_type": "code",
   "execution_count": null,
   "metadata": {},
   "outputs": [],
   "source": []
  },
  {
   "cell_type": "code",
   "execution_count": null,
   "metadata": {},
   "outputs": [],
   "source": []
  },
  {
   "cell_type": "code",
   "execution_count": 11,
   "metadata": {},
   "outputs": [
    {
     "name": "stdout",
     "output_type": "stream",
     "text": [
      "0.860238485217282\n"
     ]
    }
   ],
   "source": []
  },
  {
   "cell_type": "code",
   "execution_count": null,
   "metadata": {},
   "outputs": [],
   "source": []
  },
  {
   "cell_type": "code",
   "execution_count": 12,
   "metadata": {},
   "outputs": [
    {
     "name": "stdout",
     "output_type": "stream",
     "text": [
      "1.4448341712182988 -0.46579906503072\n"
     ]
    }
   ],
   "source": []
  },
  {
   "cell_type": "code",
   "execution_count": 13,
   "metadata": {},
   "outputs": [
    {
     "name": "stdout",
     "output_type": "stream",
     "text": [
      "0.8668083907638165\n"
     ]
    }
   ],
   "source": []
  },
  {
   "cell_type": "code",
   "execution_count": null,
   "metadata": {},
   "outputs": [],
   "source": []
  },
  {
   "cell_type": "code",
   "execution_count": 14,
   "metadata": {},
   "outputs": [
    {
     "name": "stdout",
     "output_type": "stream",
     "text": [
      "0.2447587765468946 0.24475877654689454\n"
     ]
    }
   ],
   "source": [
    "\n"
   ]
  },
  {
   "cell_type": "code",
   "execution_count": null,
   "metadata": {},
   "outputs": [],
   "source": []
  },
  {
   "cell_type": "code",
   "execution_count": null,
   "metadata": {},
   "outputs": [],
   "source": []
  },
  {
   "cell_type": "code",
   "execution_count": null,
   "metadata": {},
   "outputs": [],
   "source": []
  }
 ],
 "metadata": {
  "kernelspec": {
   "display_name": "Python 3",
   "language": "python",
   "name": "python3"
  },
  "language_info": {
   "codemirror_mode": {
    "name": "ipython",
    "version": 3
   },
   "file_extension": ".py",
   "mimetype": "text/x-python",
   "name": "python",
   "nbconvert_exporter": "python",
   "pygments_lexer": "ipython3",
   "version": "3.6.3"
  }
 },
 "nbformat": 4,
 "nbformat_minor": 2
}
