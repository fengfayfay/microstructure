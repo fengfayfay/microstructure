{
 "cells": [
  {
   "cell_type": "markdown",
   "metadata": {},
   "source": [
    "Test whether the Beckmann microfacet distribution is a true PDF (integrates to 1).\n",
    "\n",
    "First, integrate over $\\theta$ from 0 to 90 degrees. Multiply the result by $2 \\pi$ to include the integral from 0 to $2 \\pi$ over $\\phi$."
   ]
  },
  {
   "cell_type": "code",
   "execution_count": 1,
   "metadata": {},
   "outputs": [
    {
     "name": "stdout",
     "output_type": "stream",
     "text": [
      "0.9999373217072938\n"
     ]
    }
   ],
   "source": [
    "import math\n",
    "import vec3\n",
    "import microfacet\n",
    "\n",
    "alpha = .9\n",
    "beckmann = microfacet.Beckmann(alpha, alpha)\n",
    "\n",
    "pdf_sum = 0\n",
    "di = math.radians(1)\n",
    "for i in range(0,90):\n",
    "    cosi = math.cos(math.radians(i))\n",
    "    sini = math.sin(math.radians(i))\n",
    "    pdf_sum += beckmann.Pdf(vec3.Vec3(sini, 0.0, cosi)) * sini * di # sini because we are integrating dw\n",
    "print(2 * math.pi * pdf_sum)"
   ]
  },
  {
   "cell_type": "markdown",
   "metadata": {},
   "source": [
    "Repeat the integral by integrating over $d \\cos \\theta$. "
   ]
  },
  {
   "cell_type": "code",
   "execution_count": 4,
   "metadata": {},
   "outputs": [
    {
     "name": "stdout",
     "output_type": "stream",
     "text": [
      "0.9876433968100947\n"
     ]
    }
   ],
   "source": [
    "N = 100\n",
    "dcosi = 1/N\n",
    "pdf_sum = 0.0\n",
    "for i in range(N):\n",
    "    cosi = i/N\n",
    "    sini = math.sqrt(1.-cosi*cosi)\n",
    "    d = beckmann.Pdf(vec3.Vec3(sini, 0.0, cosi)) * dcosi\n",
    "    pdf_sum += d\n",
    "print (2 * math.pi * pdf_sum)"
   ]
  },
  {
   "cell_type": "code",
   "execution_count": null,
   "metadata": {
    "collapsed": true
   },
   "outputs": [],
   "source": []
  }
 ],
 "metadata": {
  "kernelspec": {
   "display_name": "Python 3",
   "language": "python",
   "name": "python3"
  },
  "language_info": {
   "codemirror_mode": {
    "name": "ipython",
    "version": 3
   },
   "file_extension": ".py",
   "mimetype": "text/x-python",
   "name": "python",
   "nbconvert_exporter": "python",
   "pygments_lexer": "ipython3",
   "version": "3.6.3"
  }
 },
 "nbformat": 4,
 "nbformat_minor": 2
}
