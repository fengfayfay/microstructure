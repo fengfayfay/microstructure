{
 "cells": [
  {
   "cell_type": "markdown",
   "metadata": {},
   "source": [
    "\n",
    "Test whether the Beckmann microfacet distribution is a true PDF (integrates to 1). Doesn't seem to be right??\n",
    "\n",
    "PDF now integrates to 1, it should be scaled by 2pi because the PDF of a microfacet integrates to 1 over the hemisphere.\n"
   ]
  },
  {
   "cell_type": "code",
   "execution_count": 37,
   "metadata": {},
   "outputs": [
    {
     "name": "stdout",
     "output_type": "stream",
     "text": [
      "0.999937321707294\n"
     ]
    }
   ],
   "source": [
    "import math\n",
    "import vec3\n",
    "import microfacet\n",
    "\n",
    "alpha = .9\n",
    "beckmann = microfacet.Beckmann(alpha, alpha)\n",
    "\n",
    "pdf_sum = 0\n",
    "for i in range(0,90):\n",
    "    cosi = math.cos(math.radians(i))\n",
    "    sini = math.sin(math.radians(i))\n",
    "    di = math.radians(i+1) - math.radians(i)\n",
    "    pdf_sum += beckmann.Pdf(vec3.Vec3(sini, 0.0, cosi)) * sini * di # sini because we are integrating dw\n",
    "print(2 * math.pi * pdf_sum)\n",
    "\n"
   ]
  },
  {
   "cell_type": "markdown",
   "metadata": {},
   "source": [
    "The integration test below is not right, brdf is expected to integrate to <= 1 over omega_o (not omega_h).  I need to make more adjustment to the cell below to get this to be correct."
   ]
  },
  {
   "cell_type": "code",
   "execution_count": 36,
   "metadata": {},
   "outputs": [
    {
     "name": "stdout",
     "output_type": "stream",
     "text": [
      "1.112966170812173\n"
     ]
    }
   ],
   "source": [
    "brdf_sum = 0.0\n",
    "\n",
    "for i in range(0,90):\n",
    "    cosi = math.cos(math.radians(i))\n",
    "    sini = math.sin(math.radians(i))\n",
    "    di = math.radians(i+1) - math.radians(i)\n",
    "    d = beckmann.D(vec3.Vec3(sini, 0.0, cosi)) * sini * di# integrate over is d \\cos \\theta\n",
    "    #print(cosi, d)\n",
    "    brdf_sum += d\n",
    "print (2 * math.pi * brdf_sum)\n"
   ]
  }
 ],
 "metadata": {
  "kernelspec": {
   "display_name": "Python 3",
   "language": "python",
   "name": "python3"
  },
  "language_info": {
   "codemirror_mode": {
    "name": "ipython",
    "version": 3
   },
   "file_extension": ".py",
   "mimetype": "text/x-python",
   "name": "python",
   "nbconvert_exporter": "python",
   "pygments_lexer": "ipython3",
   "version": "3.6.2+"
  }
 },
 "nbformat": 4,
 "nbformat_minor": 2
}
