{
 "cells": [
  {
   "cell_type": "markdown",
   "metadata": {},
   "source": [
    "### Integrate\n",
    "\n",
    "Test whether the Beckmann microfacet distribution is a true PDF (integrates to 1).\n",
    "\n",
    "Define a function that integrates a PDF over solid angles. We assume the PDF is rotationally symmetric and does not depennd of $\\phi$. First, integrate over $\\theta$ from 0 to 90 degrees. Then, multiply the result by $2 \\pi$ to include the integral over $\\phi$."
   ]
  },
  {
   "cell_type": "code",
   "execution_count": 1,
   "metadata": {
    "collapsed": true,
    "scrolled": false
   },
   "outputs": [],
   "source": [
    "import math\n",
    "import vec3\n",
    "\n",
    "def integrate(PDF):\n",
    "    di = math.radians(1)\n",
    "    pdf_sum = 0\n",
    "    for i in range(0,91):\n",
    "        ri = math.radians(i)\n",
    "        H = vec3.FromAngle(ri)\n",
    "        pdf_sum += PDF(H) * math.sin(ri) * di # sini because we are integrating dw\n",
    "    return 2 * math.pi * pdf_sum"
   ]
  },
  {
   "cell_type": "code",
   "execution_count": 2,
   "metadata": {},
   "outputs": [
    {
     "name": "stdout",
     "output_type": "stream",
     "text": [
      "Beckmann(alpha=0.1) = 0.9949076750901112\n"
     ]
    }
   ],
   "source": [
    "import microfacet\n",
    "\n",
    "alpha = .1\n",
    "beckmann = microfacet.Beckmann(alpha, alpha)\n",
    "print('Beckmann(alpha={}) = {}'.format(alpha, integrate(beckmann.Pdf)))"
   ]
  },
  {
   "cell_type": "markdown",
   "metadata": {},
   "source": [
    "This shows that the Beckmann microfacet distribution is properly normalized."
   ]
  },
  {
   "cell_type": "markdown",
   "metadata": {},
   "source": [
    "Implement the integration by integrating over $d \\cos \\theta$. "
   ]
  },
  {
   "cell_type": "code",
   "execution_count": 3,
   "metadata": {
    "collapsed": true
   },
   "outputs": [],
   "source": [
    "def integrate_dcos(PDF):\n",
    "    N = 100000\n",
    "    dcosi = 1/N\n",
    "    pdf_sum = 0.0\n",
    "    for i in range(N+1):\n",
    "        cosi = i/N\n",
    "        H = vec3.FromCosAngle(cosi)\n",
    "        pdf_sum += PDF(H) * dcosi\n",
    "    return 2 * math.pi * pdf_sum"
   ]
  },
  {
   "cell_type": "code",
   "execution_count": 4,
   "metadata": {
    "scrolled": true
   },
   "outputs": [
    {
     "name": "stdout",
     "output_type": "stream",
     "text": [
      "Beckmann(alpha=0.1) = 1.0010003283333149\n"
     ]
    }
   ],
   "source": [
    "print('Beckmann(alpha={}) = {}'.format(alpha, integrate_dcos(beckmann.Pdf)))"
   ]
  },
  {
   "cell_type": "markdown",
   "metadata": {},
   "source": [
    "This also yields 1, again showing the Beckmann distribution is properly normalized."
   ]
  },
  {
   "cell_type": "markdown",
   "metadata": {
    "collapsed": true
   },
   "source": [
    "### Consistency\n",
    "\n",
    "Check that the average projected area is equal to $\\cos \\theta_i$."
   ]
  },
  {
   "cell_type": "code",
   "execution_count": 5,
   "metadata": {
    "collapsed": true
   },
   "outputs": [],
   "source": [
    "import vgroove\n",
    "\n",
    "EPSILON = 1e-2\n",
    "\n",
    "def check(beckmann, a):\n",
    "    a = math.radians(a)\n",
    "    I = vec3.FromAngle(a)\n",
    "    N = vec3.FromAngle(0)\n",
    "    n = 100000\n",
    "    dcos = 1/n\n",
    "    dcos_sum= 0.0\n",
    "    for i in range(n+1):\n",
    "        cosh = i/n\n",
    "        H = vec3.FromCosAngle(cosh)\n",
    "        G = vgroove.G1(N,H,I)\n",
    "        HdotI = vec3.dot(H,I)\n",
    "        dcos_sum += 0.5 * G * beckmann.D(H) * HdotI * dcos\n",
    "    return 2 * math.pi * dcos_sum"
   ]
  },
  {
   "cell_type": "code",
   "execution_count": 6,
   "metadata": {},
   "outputs": [
    {
     "name": "stdout",
     "output_type": "stream",
     "text": [
      "cos(30) = 0.8668917135332129\n",
      "cos(30) = 0.8660254037844387\n"
     ]
    }
   ],
   "source": [
    "theta = 30\n",
    "costheta1 = check(beckmann, theta)\n",
    "print('cos({}) = {}'.format(theta, costheta1))\n",
    "costheta2 = math.cos(math.radians(theta))\n",
    "print('cos({}) = {}'.format(theta, costheta2))\n",
    "assert abs(costheta1 - costheta2) < EPSILON"
   ]
  },
  {
   "cell_type": "code",
   "execution_count": 7,
   "metadata": {},
   "outputs": [
    {
     "name": "stdout",
     "output_type": "stream",
     "text": [
      "cos(0) = 1.0010003283333149\n",
      "cos(0) = 1.0\n"
     ]
    }
   ],
   "source": [
    "theta = 0\n",
    "costheta1 = beckmann.visible(math.radians(theta))\n",
    "print('cos({}) = {}'.format(theta, costheta1))\n",
    "costheta2 = math.cos(math.radians(theta))\n",
    "print('cos({}) = {}'.format(theta, costheta2))\n",
    "assert abs(costheta1 - costheta2) < EPSILON"
   ]
  },
  {
   "cell_type": "code",
   "execution_count": 8,
   "metadata": {},
   "outputs": [
    {
     "name": "stdout",
     "output_type": "stream",
     "text": [
      "cos(30) = 0.8668917135332129\n",
      "cos(30) = 0.8660254037844387\n"
     ]
    }
   ],
   "source": [
    "theta = 30\n",
    "costheta1 = beckmann.visible(math.radians(theta))\n",
    "print('cos({}) = {}'.format(theta, costheta1))\n",
    "costheta2 = math.cos(math.radians(theta))\n",
    "print('cos({}) = {}'.format(theta, costheta2))\n",
    "assert abs(costheta1 - costheta2) < EPSILON"
   ]
  }
 ],
 "metadata": {
  "kernelspec": {
   "display_name": "Python 3",
   "language": "python",
   "name": "python3"
  },
  "language_info": {
   "codemirror_mode": {
    "name": "ipython",
    "version": 3
   },
   "file_extension": ".py",
   "mimetype": "text/x-python",
   "name": "python",
   "nbconvert_exporter": "python",
   "pygments_lexer": "ipython3",
   "version": "3.6.2+"
  }
 },
 "nbformat": 4,
 "nbformat_minor": 2
}
