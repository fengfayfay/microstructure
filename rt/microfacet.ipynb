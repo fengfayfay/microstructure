{
 "cells": [
  {
   "cell_type": "markdown",
   "metadata": {},
   "source": [
    "Test whether the Beckmann microfacet distribution is a true PDF (integrates to 1). Doesn't seem to be right??"
   ]
  },
  {
   "cell_type": "code",
   "execution_count": 1,
   "metadata": {},
   "outputs": [
    {
     "name": "stdout",
     "output_type": "stream",
     "text": [
      "36.46821810208372\n"
     ]
    }
   ],
   "source": [
    "import math\n",
    "import vec3\n",
    "import microfacet\n",
    "\n",
    "beckmann = microfacet.Beckmann(0.5,0.5)\n",
    "\n",
    "sum = 0.0\n",
    "for i in range(0,90):\n",
    "    cosi = math.cos(math.radians(i))\n",
    "    sini = math.sin(math.radians(i))\n",
    "    sum += beckmann.Pdf(vec3.Vec3(sini, 0.0, cosi))*sini # sini because we are integrating dw\n",
    "print(2*math.pi*sum/(math.pi/2))"
   ]
  },
  {
   "cell_type": "code",
   "execution_count": 5,
   "metadata": {},
   "outputs": [
    {
     "name": "stdout",
     "output_type": "stream",
     "text": [
      "232.49678133684137\n"
     ]
    }
   ],
   "source": [
    "sum = 0.0\n",
    "for i in range(0,90):\n",
    "    cosi = math.cos(math.radians(i))\n",
    "    sini = math.sin(math.radians(i))\n",
    "    d = beckmann.D(vec3.Vec3(sini, 0.0, cosi)) # integrate over is d \\cos \\theta\n",
    "    #print(cosi, d)\n",
    "    sum += d\n",
    "print(2*math.pi*sum)"
   ]
  },
  {
   "cell_type": "code",
   "execution_count": null,
   "metadata": {
    "collapsed": true
   },
   "outputs": [],
   "source": []
  }
 ],
 "metadata": {
  "kernelspec": {
   "display_name": "Python 3",
   "language": "python",
   "name": "python3"
  },
  "language_info": {
   "codemirror_mode": {
    "name": "ipython",
    "version": 3
   },
   "file_extension": ".py",
   "mimetype": "text/x-python",
   "name": "python",
   "nbconvert_exporter": "python",
   "pygments_lexer": "ipython3",
   "version": "3.6.3"
  }
 },
 "nbformat": 4,
 "nbformat_minor": 2
}
