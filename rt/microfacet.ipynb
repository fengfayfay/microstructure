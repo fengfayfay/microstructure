{
 "cells": [
  {
   "cell_type": "markdown",
   "metadata": {},
   "source": [
    "Test whether the Beckmann microfacet distribution is a true PDF (integrates to 1).\n",
    "\n",
    "First, integrate over $\\theta$ from 0 to 90 degrees. Multiply the result by $2 \\pi$ to include the integral from 0 to $2 \\pi$ over $\\phi$."
   ]
  },
  {
   "cell_type": "code",
   "execution_count": 1,
   "metadata": {},
   "outputs": [
    {
     "name": "stdout",
     "output_type": "stream",
     "text": [
      "0.9999373217072938\n"
     ]
    }
   ],
   "source": [
    "import math\n",
    "import vec3\n",
    "import microfacet\n",
    "\n",
    "alpha = .9\n",
    "beckmann = microfacet.Beckmann(alpha, alpha)\n",
    "\n",
    "pdf_sum = 0\n",
    "di = math.radians(1)\n",
    "for i in range(0,90):\n",
    "    cosi = math.cos(math.radians(i))\n",
    "    sini = math.sin(math.radians(i))\n",
    "    pdf_sum += beckmann.Pdf(vec3.Vec3(sini, 0.0, cosi)) * sini * di # sini because we are integrating dw\n",
    "print(2 * math.pi * pdf_sum)"
   ]
  },
  {
   "cell_type": "markdown",
   "metadata": {},
   "source": [
    "Repeat the integral by integrating over $d \\cos \\theta$. "
   ]
  },
  {
   "cell_type": "code",
   "execution_count": 4,
   "metadata": {},
   "outputs": [
    {
     "name": "stdout",
     "output_type": "stream",
     "text": [
      "0.9876433968100947\n"
     ]
    }
   ],
   "source": [
    "N = 100\n",
    "dcosi = 1/N\n",
    "pdf_sum = 0.0\n",
    "for i in range(N):\n",
    "    cosi = i/N\n",
    "    sini = math.sqrt(1.-cosi*cosi)\n",
    "    d = beckmann.Pdf(vec3.Vec3(sini, 0.0, cosi)) * dcosi\n",
    "    pdf_sum += d\n",
    "print (2 * math.pi * pdf_sum)"
   ]
  },
  {
   "cell_type": "code",
   "execution_count": null,
   "metadata": {
    "collapsed": true
   },
   "outputs": [],
   "source": [
    "The brdf is expected to integrate to <= 1 over omega_o (not omega_h). I need to make more adjustment to the cell below to get this to be correct.\n",
    "BRDF integration to close to 1 test:\n",
    "I have fixed the brdf integration test to encompass the correct theta range and phi range for our setup, and the beckmann brdf integrates close to 1 for small alpha but starts to become less with increasing alpha.\n",
    "At alpha = 9, it is .618 for example."
   ]
  },
  {
   "cell_type": "code",
   "execution_count": 1,
   "metadata": {},
   "outputs": [
    {
     "name": "stdout",
     "output_type": "stream",
     "text": [
      "0.9030309454861812 0.9184999308485973\n"
     ]
    }
   ],
   "source": [
    "import brdf\n",
    "import math\n",
    "import vec3\n",
    "\n",
    "alpha = .5\n",
    "theBrdf = brdf.Brdf(alpha, alpha);\n",
    "\n",
    "\n",
    "theta_o = math.pi /6;\n",
    "phi_o = 0\n",
    "wo = vec3.Vec3(0, math.sin(theta_o) * math.cos(phi_o), math.cos(theta_o))\n",
    "\n",
    "phi_i = math.pi\n",
    "\n",
    "pdf_total = 0\n",
    "brdf_total = 0\n",
    "\n",
    "for j in range (0,  360):\n",
    "    phi_j = math.radians(j)\n",
    "    dj = math.radians(j+1) - phi_j\n",
    "    brdf_sum = 0\n",
    "    pdf_sum = 0\n",
    "    cos_phi = math.cos(phi_j)\n",
    "    sin_phi = math.sin(phi_j)\n",
    "    for i in range(0, 90):\n",
    "        cos_theta_i = math.cos(math.radians(i))\n",
    "        sin_theta_i = math.sin(math.radians(i))\n",
    "        di = math.radians(i+1) - math.radians(i)\n",
    "        mu = cos_theta_i \n",
    "        wi = vec3.Vec3(sin_theta_i * sin_phi, sin_theta_i * cos_phi, mu)\n",
    "        (value, pdf) = theBrdf.Eval(wo, wi, False) \n",
    "        brdf_sum += value * sin_theta_i *  di\n",
    "        pdf_sum += pdf * sin_theta_i * di\n",
    "    brdf_total += brdf_sum * dj\n",
    "    pdf_total += pdf_sum * dj\n",
    "print(brdf_total, pdf_total)"
   ]
  },
  {
   "cell_type": "code",
   "execution_count": null,
   "metadata": {},
   "outputs": [],
   "source": []
  }
 ],
 "metadata": {
  "kernelspec": {
   "display_name": "Python 3",
   "language": "python",
   "name": "python3"
  },
  "language_info": {
   "codemirror_mode": {
    "name": "ipython",
    "version": 3
   },
   "file_extension": ".py",
   "mimetype": "text/x-python",
   "name": "python",
   "nbconvert_exporter": "python",
   "pygments_lexer": "ipython3",
   "version": "3.6.2+"
  }
 },
 "nbformat": 4,
 "nbformat_minor": 2
}
