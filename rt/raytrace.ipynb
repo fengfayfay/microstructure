{
 "cells": [
  {
   "cell_type": "markdown",
   "metadata": {},
   "source": [
    "This notebook compares the reflections computed using the zipin model to the reflection computed using ray tracing."
   ]
  },
  {
   "cell_type": "code",
   "execution_count": 1,
   "metadata": {
    "collapsed": true
   },
   "outputs": [],
   "source": [
    "from math import cos, sin, asin, acos, atan2, radians, degrees, sqrt\n",
    "from vec3 import Vec3\n",
    "from ray import Ray, reflect\n",
    "from vgroove import VGroove\n",
    "from mc import uniform\n",
    "from stats import histogram\n",
    "from zipin import zipin\n",
    "import numpy as np\n",
    "\n",
    "np.set_printoptions(formatter={'float': '{: 0.3f}'.format})\n",
    "\n",
    "N = 10000\n",
    "\n",
    "def vtrace(v,x,i):\n",
    "    cosi = cos(radians(i))\n",
    "    sini = sin(radians(i))\n",
    "    r = Ray( Vec3(x, 0.0, 0.0), Vec3(-sini, 0.0, -cosi) )\n",
    "    return v.trace(r)\n",
    "\n",
    "def trace(m,x,i):\n",
    "    return vtrace(VGroove(m), x, i)\n",
    "\n",
    "def brdf(m, i):\n",
    "    vgroove = VGroove(m)\n",
    "    return [vtrace(vgroove, uniform(-1.0, 1.0), i) for _ in range(N)]\n",
    "\n",
    "def printbrdf(m,i):\n",
    "    hits = brdf(m, i)\n",
    "    hist = histogram(hits)\n",
    "    print('m={}, i={}'.format(m,i) )\n",
    "    for r in range(len(hist)):\n",
    "        h = hist[r,:]\n",
    "        if sum(h) != 0.:\n",
    "            print('r={}'.format(r-90), sum(h), h)\n",
    "\n",
    "def printtrace(m, x, i):\n",
    "    hits = trace(m, x, i)\n",
    "    print(len(hits), '{:0.3f}'.format(x), end=' ')\n",
    "    for hit in hits:\n",
    "        deg = int(degrees(atan2(hit.r.x,hit.r.z))+0.5)\n",
    "        print(hit.side, deg, end=' ')\n",
    "    print()\n",
    "\n"
   ]
  },
  {
   "cell_type": "markdown",
   "metadata": {},
   "source": [
    "Let's run a test with a v-groove angle of 45 and ray incident at 30. The correct result is that we have two reflected directions, 30 and 60. The left side generates a 1 bounce reflection at 60, and a 2 bounce reflection at 30. The right side only generates a 2 bounce reflection at 30. The calculated angles of reflection and percentages of each path are calculated using MC ray tracing and using the Zipin model. They match."
   ]
  },
  {
   "cell_type": "code",
   "execution_count": 2,
   "metadata": {
    "scrolled": true
   },
   "outputs": [
    {
     "name": "stdout",
     "output_type": "stream",
     "text": [
      "m=45, i=30\n",
      "r=30 0.4259 [ 0.000  0.000  0.426  0.000  0.000  0.000  0.000  0.000  0.000  0.000]\n",
      "r=60 0.5741 [ 0.000  0.574  0.000  0.000  0.000  0.000  0.000  0.000  0.000  0.000]\n",
      "[(60.00000000000001, 0.5773502691896256, 1, 'left'), (29.999999999999993, 0.21132486540518736, 2, 'left'), (29.999999999999993, 0.21132486540518716, 2, 'right')]\n"
     ]
    }
   ],
   "source": [
    "phi = 45\n",
    "theta = 30\n",
    "#for i in range(20):\n",
    "#    printtrace(phi, i/10-1, theta)\n",
    "printbrdf(phi, theta)\n",
    "print(zipin(radians(phi),radians(theta)))"
   ]
  }
 ],
 "metadata": {
  "kernelspec": {
   "display_name": "Python 3",
   "language": "python",
   "name": "python3"
  },
  "language_info": {
   "codemirror_mode": {
    "name": "ipython",
    "version": 3
   },
   "file_extension": ".py",
   "mimetype": "text/x-python",
   "name": "python",
   "nbconvert_exporter": "python",
   "pygments_lexer": "ipython3",
   "version": "3.6.3"
  }
 },
 "nbformat": 4,
 "nbformat_minor": 2
}
