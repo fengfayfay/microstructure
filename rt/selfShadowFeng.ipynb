{
 "cells": [
  {
   "cell_type": "code",
   "execution_count": 1,
   "metadata": {},
   "outputs": [],
   "source": [
    "from math import cos, sin, radians, degrees\n",
    "from vec3 import Vec3, dot\n",
    "from zipinPaper import zipin"
   ]
  },
  {
   "cell_type": "code",
   "execution_count": 2,
   "metadata": {},
   "outputs": [],
   "source": [
    "def surface(phi, theta):\n",
    "    N = Vec3(0,0,1)\n",
    "    H = Vec3(cos(theta), 0.0, sin(theta))\n",
    "    I = Vec3(sin(phi), 0.0, cos(phi))\n",
    "    return N, H, I\n",
    "    \n",
    "def G1(wn, wh, w):\n",
    "    hdotw = dot(wh,w)\n",
    "    if hdotw <= 0:\n",
    "        return 0\n",
    "    ndoth = dot(wn,wh)\n",
    "    ndotw = dot(wn,w)\n",
    "    return 2*ndoth*ndotw/hdotw\n",
    " \n",
    "def G2(N, H, I, O):\n",
    "    return min(1,G1(N,H,I),G1(N,H,O))\n",
    "\n",
    "def Gzipin(theta, phi):\n",
    "    theta = radians(theta)\n",
    "    phi = radians(phi)\n",
    "    \n",
    "    for hit in zipin(degrees(theta),degrees(phi)):\n",
    "        angle, area, bounce, side, zg= hit\n",
    "        if side == 'left' and bounce == 1:\n",
    "            N, H, I = surface(phi, theta)\n",
    "            a = -radians(angle)\n",
    "            O = Vec3(sin(a), 0.0, cos(a))\n",
    "            assert(abs(area*G1(N,H,I) - zg) < .00001)\n",
    "            assert(checkCorrectO(O, I, H))\n",
    "            return zg\n",
    "               \n",
    "    return 0\n",
    "\n",
    "def checkCorrectO(O, I, H):\n",
    "    midOI = (O + I).norm()\n",
    "    diff = H - midOI\n",
    "    dis = diff.dot(diff)\n",
    "    if  dis > .00001:\n",
    "        print (O, I, midOI, H)\n",
    "    return dis < .00001\n",
    "\n",
    "def check(theta, phi):\n",
    "    theta = radians(theta)\n",
    "    phi = radians(phi)\n",
    "    \n",
    "    hits = zipin(degrees(theta),degrees(phi))\n",
    "    \n",
    "    N, Hl, I = surface(phi, theta)\n",
    "    Hr = Vec3(-Hl.x, Hl.y, Hl.z)\n",
    "    N = Vec3(0,0,1)\n",
    " \n",
    "    for hit in hits:\n",
    "        angle, area, bounce, side, zg = hit\n",
    "        a = -radians(angle)\n",
    "        O = Vec3(sin(a), 0.0, cos(a))\n",
    "        if bounce == 1:\n",
    "            if side == 'left':\n",
    "                g = area*G1(N,Hl,I)\n",
    "                h = G2(N,Hl,I,O)\n",
    "                assert checkCorrectO(O, I, Hl)\n",
    "            else:\n",
    "                g = area*G1(N,Hr,I)\n",
    "                h = G2(N,Hr,I,O)\n",
    "                assert checkCorrectO(O, I, Hr)\n",
    "            assert abs(g-h) < 0.0001               \n",
    "    return hits"
   ]
  },
  {
   "cell_type": "code",
   "execution_count": 3,
   "metadata": {},
   "outputs": [],
   "source": [
    "for phi in range(1,91):\n",
    "    for theta in range(0,91):\n",
    "        check(phi,theta)"
   ]
  },
  {
   "cell_type": "code",
   "execution_count": 4,
   "metadata": {},
   "outputs": [
    {
     "data": {
      "image/png": "[encoded data removed]",
      "text/plain": [
       "<matplotlib.figure.Figure at 0x1088ded68>"
      ]
     },
     "metadata": {},
     "output_type": "display_data"
    }
   ],
   "source": [
    "import sys;\n",
    "sys.path.append('/usr/local/lib/python3.6/site-packages')\n",
    "import matplotlib.pyplot as plt;\n",
    "\n",
    "phi = 40\n",
    "x = []\n",
    "y = []\n",
    "for theta in range(0,91):\n",
    "    x.append(theta)\n",
    "    y.append(Gzipin(phi,theta))\n",
    "    \n",
    "plt.plot(x, y);\n",
    "plt.axis([0,90,0,1])\n",
    "plt.xlabel('theta')\n",
    "plt.ylabel('G')\n",
    "plt.title('phi={}'.format(phi))\n",
    "plt.show()  "
   ]
  },
  {
   "cell_type": "code",
   "execution_count": null,
   "metadata": {},
   "outputs": [],
   "source": []
  }
 ],
 "metadata": {
  "kernelspec": {
   "display_name": "Python 3",
   "language": "python",
   "name": "python3"
  },
  "language_info": {
   "codemirror_mode": {
    "name": "ipython",
    "version": 3
   },
   "file_extension": ".py",
   "mimetype": "text/x-python",
   "name": "python",
   "nbconvert_exporter": "python",
   "pygments_lexer": "ipython3",
   "version": "3.6.2+"
  }
 },
 "nbformat": 4,
 "nbformat_minor": 2
}
