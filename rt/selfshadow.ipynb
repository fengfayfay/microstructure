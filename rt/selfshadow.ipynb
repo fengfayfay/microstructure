{
 "cells": [
  {
   "cell_type": "code",
   "execution_count": 1,
   "metadata": {
    "collapsed": true
   },
   "outputs": [],
   "source": [
    "from math import cos, sin, radians\n",
    "from vec3 import Vec3, Z\n",
    "from vgroove import G1, G2\n",
    "from zipin import zipin, surface, Gzipin"
   ]
  },
  {
   "cell_type": "code",
   "execution_count": 2,
   "metadata": {},
   "outputs": [
    {
     "data": {
      "image/png": "[encoded data removed]",
      "text/plain": [
       "<matplotlib.figure.Figure at 0x10af85320>"
      ]
     },
     "metadata": {},
     "output_type": "display_data"
    }
   ],
   "source": [
    "import matplotlib.pyplot as plt;\n",
    "\n",
    "phi = 40\n",
    "x = []\n",
    "y = []\n",
    "for theta in range(0,91):\n",
    "    x.append(theta)\n",
    "    y.append(Gzipin(radians(phi),radians(theta)))\n",
    "    \n",
    "plt.plot(x, y);\n",
    "plt.axis([0,90,0,1])\n",
    "plt.xlabel('theta')\n",
    "plt.ylabel('G')\n",
    "plt.title('phi={}'.format(phi))\n",
    "plt.show()  "
   ]
  },
  {
   "cell_type": "code",
   "execution_count": 3,
   "metadata": {},
   "outputs": [
    {
     "name": "stdout",
     "output_type": "stream",
     "text": [
      "Passed\n"
     ]
    }
   ],
   "source": [
    "def check(theta, phi):\n",
    "\n",
    "    hits = zipin(theta,phi)\n",
    "    \n",
    "    I, Hl = surface(phi, theta)\n",
    "    Hr = Vec3(-Hl.x, Hl.y, Hl.z)\n",
    "    N = Z\n",
    " \n",
    "    for hit in hits:\n",
    "        angle, area, bounce, side = hit\n",
    "        if bounce == 1:\n",
    "            a = radians(angle)\n",
    "            O = Vec3(sin(a), 0.0, cos(a))\n",
    "            if side == 'left':\n",
    "                g = area*G1(N,Hl,I)\n",
    "                h = G2(N,Hl,I,O)\n",
    "            else:\n",
    "                g = area*G1(N,Hr,I)\n",
    "                h = G2(N,Hr,I,O)\n",
    "            #print(hit,g,h)\n",
    "            assert abs(g-h) < 0.0001\n",
    "        \n",
    "    return hits\n",
    "    \n",
    "for phi in range(1,91):\n",
    "    for theta in range(0,91):\n",
    "        check(radians(phi),radians(theta))\n",
    "print('Passed')"
   ]
  },
  {
   "cell_type": "code",
   "execution_count": null,
   "metadata": {
    "collapsed": true
   },
   "outputs": [],
   "source": []
  }
 ],
 "metadata": {
  "kernelspec": {
   "display_name": "Python 3",
   "language": "python",
   "name": "python3"
  },
  "language_info": {
   "codemirror_mode": {
    "name": "ipython",
    "version": 3
   },
   "file_extension": ".py",
   "mimetype": "text/x-python",
   "name": "python",
   "nbconvert_exporter": "python",
   "pygments_lexer": "ipython3",
   "version": "3.6.3"
  }
 },
 "nbformat": 4,
 "nbformat_minor": 2
}
